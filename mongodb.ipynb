{
 "cells": [
  {
   "cell_type": "code",
   "execution_count": 1,
   "metadata": {},
   "outputs": [],
   "source": [
    "import pandas\n",
    "import pymongo\n",
    "\n",
    "mongo = pymongo.MongoClient()"
   ]
  },
  {
   "cell_type": "code",
   "execution_count": 3,
   "metadata": {},
   "outputs": [],
   "source": [
    "def tweets(*args, **kwargs):\n",
    "    for tweet in mongo.twitter.tweet_sample.find(*args, **kwargs):\n",
    "        if \"delete\" not in tweet:\n",
    "            yield {\n",
    "                \"id\": tweet[\"_id\"],\n",
    "                \"data\": tweet[\"data\"],\n",
    "                \"lang\": tweet[\"data\"][\"lang\"],\n",
    "                \"text\": tweet[\"data\"][\"text\"],\n",
    "                # \"geo\" : tweet[\"geo\"],\n",
    "                \"process_time\" : tweet[\"_timestamp\"],\n",
    "            }   "
   ]
  },
  {
   "cell_type": "code",
   "execution_count": null,
   "metadata": {},
   "outputs": [],
   "source": [
    "pd.DataFrame(tweets({\"data.lang\": 'ko'}, limit=10))"
   ]
  }
 ],
 "metadata": {
  "interpreter": {
   "hash": "31f2aee4e71d21fbe5cf8b01ff0e069b9275f58929596ceb00d14d90e3e16cd6"
  },
  "kernelspec": {
   "display_name": "Python 3.8.10 64-bit",
   "language": "python",
   "name": "python3"
  },
  "language_info": {
   "codemirror_mode": {
    "name": "ipython",
    "version": 3
   },
   "file_extension": ".py",
   "mimetype": "text/x-python",
   "name": "python",
   "nbconvert_exporter": "python",
   "pygments_lexer": "ipython3",
   "version": "3.8.10"
  },
  "orig_nbformat": 4
 },
 "nbformat": 4,
 "nbformat_minor": 2
}
