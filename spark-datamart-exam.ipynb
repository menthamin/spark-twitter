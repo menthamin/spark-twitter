{
 "cells": [
  {
   "cell_type": "markdown",
   "id": "2a517a4f-7ddd-4f9d-b975-3f2ec2e92e40",
   "metadata": {},
   "source": [
    "# 데이터 마트 구축하기\n",
    "+ Spark로 전처리한 열 지향 스토리지 활용 고속 집계\n",
    "+ 상세페이지: 237~\n",
    "+ 출처: 빅데이터를 지탱하는 기술 (나시다 케이스케)"
   ]
  },
  {
   "cell_type": "markdown",
   "id": "d7384b9f-833f-429c-b8d3-aa3a80c1f360",
   "metadata": {},
   "source": [
    "## 1. 데이터 확인"
   ]
  },
  {
   "cell_type": "code",
   "execution_count": 1,
   "id": "00c95a73-c2a5-4076-ba46-271343893934",
   "metadata": {},
   "outputs": [],
   "source": [
    "import os\n",
    "import time "
   ]
  },
  {
   "cell_type": "code",
   "execution_count": 2,
   "id": "d39edde7-27af-4157-9930-a4c49ec0c9b6",
   "metadata": {},
   "outputs": [
    {
     "name": "stderr",
     "output_type": "stream",
     "text": [
      "22/02/16 22:53:06 WARN HiveConf: HiveConf of name hive.stats.jdbc.timeout does not exist\n",
      "22/02/16 22:53:06 WARN HiveConf: HiveConf of name hive.stats.retries.wait does not exist\n",
      "22/02/16 22:53:07 WARN ObjectStore: Version information not found in metastore. hive.metastore.schema.verification is not enabled so recording the schema version 2.3.0\n",
      "22/02/16 22:53:07 WARN ObjectStore: setMetaStoreSchemaVersion called but recording version is disabled: version = 2.3.0, comment = Set by MetaStore mentha@127.0.1.1\n",
      "                                                                                \r"
     ]
    },
    {
     "data": {
      "text/plain": [
       "522415"
      ]
     },
     "execution_count": 2,
     "metadata": {},
     "output_type": "execute_result"
    }
   ],
   "source": [
    "spark.table(\"ko_words\").count()"
   ]
  },
  {
   "cell_type": "code",
   "execution_count": null,
   "id": "b25c3fd7-85c5-40e4-8649-b7c0414a72eb",
   "metadata": {},
   "outputs": [],
   "source": []
  }
 ],
 "metadata": {
  "kernelspec": {
   "display_name": "Python 3 (ipykernel)",
   "language": "python",
   "name": "python3"
  },
  "language_info": {
   "codemirror_mode": {
    "name": "ipython",
    "version": 3
   },
   "file_extension": ".py",
   "mimetype": "text/x-python",
   "name": "python",
   "nbconvert_exporter": "python",
   "pygments_lexer": "ipython3",
   "version": "3.8.10"
  }
 },
 "nbformat": 4,
 "nbformat_minor": 5
}
