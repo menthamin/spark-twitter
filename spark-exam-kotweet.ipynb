{
 "cells": [
  {
   "cell_type": "markdown",
   "id": "0655fc23-12cc-4784-b771-7e632f9d54c2",
   "metadata": {},
   "source": [
    "# Spark 연동 및 Spark SQL 테스트"
   ]
  },
  {
   "cell_type": "code",
   "execution_count": 10,
   "id": "0ecddf40-b502-4a92-9260-f5f578e24a5e",
   "metadata": {},
   "outputs": [],
   "source": [
    "import os\n",
    "import time \n",
    "from pyspark.sql import Row"
   ]
  },
  {
   "cell_type": "code",
   "execution_count": 2,
   "id": "53fb6d3f-49aa-4273-9fab-fe4a0533e0ab",
   "metadata": {},
   "outputs": [
    {
     "name": "stderr",
     "output_type": "stream",
     "text": [
      "                                                                                \r"
     ]
    }
   ],
   "source": [
    "df = (spark.read.format(\"com.mongodb.spark.sql.DefaultSource\").option(\"uri\", \"mongodb://localhost/twitter.tweet_small_sample\").load())"
   ]
  },
  {
   "cell_type": "code",
   "execution_count": 3,
   "id": "e2bccbe1-f211-4110-863f-5b18c07ad3dc",
   "metadata": {},
   "outputs": [],
   "source": [
    "df.createOrReplaceTempView(\"tweets\")"
   ]
  },
  {
   "cell_type": "code",
   "execution_count": 119,
   "id": "9c50953a-8013-4355-8058-3f3a8e98699e",
   "metadata": {},
   "outputs": [
    {
     "name": "stdout",
     "output_type": "stream",
     "text": [
      "+--------------------+--------------------+--------------------+\n",
      "|                 _id|          _timestamp|                data|\n",
      "+--------------------+--------------------+--------------------+\n",
      "|{61ffbb80f6b8e9bd...|2022-02-06T21:13:...|{{null, null}, 24...|\n",
      "|{61ffbb80f6b8e9bd...|2022-02-06T21:13:...|{{null, null}, 98...|\n",
      "|{61ffbb80f6b8e9bd...|2022-02-06T21:13:...|{{null, null}, 14...|\n",
      "|{61ffbb80f6b8e9bd...|2022-02-06T21:13:...|{{null, null}, 12...|\n",
      "|{61ffbb80f6b8e9bd...|2022-02-06T21:13:...|{{null, null}, 84...|\n",
      "+--------------------+--------------------+--------------------+\n",
      "only showing top 5 rows\n",
      "\n"
     ]
    }
   ],
   "source": [
    "# df 선택하기 예시\n",
    "df.show(5)"
   ]
  },
  {
   "cell_type": "code",
   "execution_count": 137,
   "id": "1e569fa2-d84e-4578-82e2-fbe671157a1d",
   "metadata": {},
   "outputs": [],
   "source": [
    "#By using col() function\n",
    "from pyspark.sql.functions import col\n",
    "# df.select(col(\"data.created_at\"), col(\"data.text\"), col(\"data.lang\") == 'ko').show(truncate=False)\n",
    "# df.filter(\"data.lang = 'ko'\").collect()"
   ]
  },
  {
   "cell_type": "code",
   "execution_count": 7,
   "id": "ef7998ff-9ce5-4e8a-8518-2615c2181d38",
   "metadata": {},
   "outputs": [],
   "source": [
    "# spark.sql(\"select data from tweets\").show(3)"
   ]
  },
  {
   "cell_type": "code",
   "execution_count": 5,
   "id": "f0c64efe-3126-407e-b254-806fb57cd850",
   "metadata": {},
   "outputs": [],
   "source": [
    "query = \"\"\"\n",
    "select\n",
    "        data.lang\n",
    "    , count(*) as cnt\n",
    "from tweets\n",
    "group by data.lang\n",
    "order by cnt desc\n",
    "\"\"\""
   ]
  },
  {
   "cell_type": "markdown",
   "id": "65a49232-2821-46cb-b619-9e6077ec68e3",
   "metadata": {},
   "source": [
    "### 속도가 매우느리다\n",
    "- 쿼리의 실행 속도는 스토리지의 성능에 의존한다.\n",
    "- MongoDB의 경우 열지 향 스토리지처럼 컬럼 단위의 읽기에\n",
    "- 최적화 되어있지는 않으므로, 그대로는 고속 집계에 적합하지 않다.\n",
    "- 최적화를 위해서는 한 차례 데이터를 추출해야 한다.\n",
    "- 234page"
   ]
  },
  {
   "cell_type": "code",
   "execution_count": 11,
   "id": "16834be1-33ab-4827-b81b-a5cbeaaebd27",
   "metadata": {},
   "outputs": [
    {
     "name": "stderr",
     "output_type": "stream",
     "text": [
      "[Stage 8:======================================================>  (18 + 1) / 19]\r"
     ]
    },
    {
     "name": "stdout",
     "output_type": "stream",
     "text": [
      "+----+------+\n",
      "|lang|   cnt|\n",
      "+----+------+\n",
      "|  en|284549|\n",
      "|  ja|189826|\n",
      "| und| 88200|\n",
      "|  th| 61411|\n",
      "|  es| 56196|\n",
      "|  ko| 44486|\n",
      "|  ar| 44412|\n",
      "|  tr| 42052|\n",
      "|  pt| 40400|\n",
      "|  in| 38053|\n",
      "|  fr| 19267|\n",
      "|  tl| 14915|\n",
      "|  hi| 14359|\n",
      "|  it|  9141|\n",
      "|  ru|  5946|\n",
      "|  de|  5654|\n",
      "|  zh|  5024|\n",
      "|  fa|  4956|\n",
      "|  pl|  4031|\n",
      "|  ur|  3548|\n",
      "+----+------+\n",
      "only showing top 20 rows\n",
      "\n",
      "time:  30.504709243774414\n"
     ]
    },
    {
     "name": "stderr",
     "output_type": "stream",
     "text": [
      "                                                                                \r"
     ]
    }
   ],
   "source": [
    "strt_time = time.time()\n",
    "spark.sql(query).show()\n",
    "print(\"time: \", time.time() - strt_time)"
   ]
  },
  {
   "cell_type": "markdown",
   "id": "c8d683ff-2234-4176-88f1-fc907f0dfd63",
   "metadata": {},
   "source": [
    "## 텍스트 데이터의 가공\n",
    "- 234 page"
   ]
  },
  {
   "cell_type": "code",
   "execution_count": 21,
   "id": "3c3b65f4-95ff-4659-86ee-5f2d8a3a6b9e",
   "metadata": {},
   "outputs": [
    {
     "name": "stdout",
     "output_type": "stream",
     "text": [
      "+--------------------+--------------------+--------------------+\n",
      "|                 _id|          _timestamp|                data|\n",
      "+--------------------+--------------------+--------------------+\n",
      "|{61ffbb80f6b8e9bd...|2022-02-06T21:13:...|{{null, null}, 24...|\n",
      "|{61ffbb80f6b8e9bd...|2022-02-06T21:13:...|{{null, null}, 98...|\n",
      "|{61ffbb80f6b8e9bd...|2022-02-06T21:13:...|{{null, null}, 14...|\n",
      "+--------------------+--------------------+--------------------+\n",
      "only showing top 3 rows\n",
      "\n"
     ]
    }
   ],
   "source": [
    "spark.sql(\"select * from tweets\").show(3)"
   ]
  },
  {
   "cell_type": "code",
   "execution_count": 19,
   "id": "40b22b8d-f8cd-4296-8cdf-26d76aa6cf82",
   "metadata": {},
   "outputs": [],
   "source": [
    "aa"
   ]
  },
  {
   "cell_type": "code",
   "execution_count": 39,
   "id": "c4eee73a-892e-4ef2-ae46-72d5d47cf4fa",
   "metadata": {},
   "outputs": [],
   "source": [
    "query = \"\"\"\n",
    "select from_unixtime(data.created_at / 1000) time, data.text\n",
    "from tweets where data.lang = 'en'\n",
    "\"\"\"\n",
    "\n",
    "query_2 = \"\"\"\n",
    "select data.created_at, data.text\n",
    "from tweets where data.lang = 'en'\n",
    "\"\"\""
   ]
  },
  {
   "cell_type": "code",
   "execution_count": 113,
   "id": "e6c004e3-5ace-49e0-b5df-278745cd925b",
   "metadata": {},
   "outputs": [
    {
     "name": "stdout",
     "output_type": "stream",
     "text": [
      "+--------------------+--------------------+\n",
      "|          created_at|                text|\n",
      "+--------------------+--------------------+\n",
      "|2022-02-06T12:13:...|@EyesRightPhoto @...|\n",
      "|2022-02-06T12:13:...|RT @IanByrneMP: R...|\n",
      "|2022-02-06T12:13:...| @ifnotyoursha tilly|\n",
      "+--------------------+--------------------+\n",
      "only showing top 3 rows\n",
      "\n"
     ]
    }
   ],
   "source": [
    "spark.sql(query_2).show(3)"
   ]
  },
  {
   "cell_type": "code",
   "execution_count": 135,
   "id": "0438707a-38c7-4c6f-b1f4-c8e688ee902c",
   "metadata": {},
   "outputs": [],
   "source": [
    "from pyspark.sql import Row\n",
    "from datetime import datetime\n",
    "import dateutil.parser\n",
    "\n",
    "def string_to_datetime(str):\n",
    "    d = dateutil.parser.parse(str)\n",
    "    return d.strftime('%Y-%m-%d %H:%M:%S')\n",
    "    # return datetime.strptime(str, '%Y-%m-%dT%H:%M:%S.000Z')\n",
    "\n",
    "def text_split(row):\n",
    "    \"\"\"트윗을 단어로 분해하는 제너레이터 함수\n",
    "        :Args: row \n",
    "        \n",
    "        :returns \n",
    "            - Row() 객체로 반환\n",
    "    \"\"\"\n",
    "    if row.data:\n",
    "        for word in row.data.text.split():\n",
    "            yield Row(time=string_to_datetime(row.data.created_at), word=word)\n",
    "            # yield Row(time=row.data.created_at, word=word)\n",
    "        # except as e:\n",
    "            "
   ]
  },
  {
   "cell_type": "markdown",
   "id": "5b7e7dea-57d8-4701-b83e-72cf24a6fae8",
   "metadata": {},
   "source": [
    "#### '.rdd'로 원시 레코드 참조"
   ]
  },
  {
   "cell_type": "code",
   "execution_count": 138,
   "id": "5168e41d-ded9-4dd5-94ac-d12eee720740",
   "metadata": {},
   "outputs": [
    {
     "data": {
      "text/plain": [
       "[Row(_id=Row(oid='61ffbb80f6b8e9bd026bb4f6'), _timestamp='2022-02-06T21:13:52.836027+09:00', data=Row(attachments=Row(media_keys=None, poll_ids=None), author_id='1136645494019461120', context_annotations=None, conversation_id='1490279570297307137', created_at='2022-02-06T12:13:41.000Z', entities=Row(annotations=None, cashtags=None, hashtags=None, mentions=[Row(start=0, end=12, username='dkdtmxkcoth', id='1424626232667242496')], urls=None), geo=Row(place_id=None), id='1490297645189177344', in_reply_to_user_id='1424626232667242496', lang='ko', possibly_sensitive=False, public_metrics=Row(retweet_count=0, reply_count=0, like_count=0, quote_count=0), referenced_tweets=[Row(type='replied_to', id='1490297548354899972')], reply_settings='everyone', source='Twitter for Android', text='@dkdtmxkcoth 나도 같커잖아...'))]"
      ]
     },
     "execution_count": 138,
     "metadata": {},
     "output_type": "execute_result"
    }
   ],
   "source": [
    "df.filter(\"data.lang = 'ko'\").rdd.take(1)"
   ]
  },
  {
   "cell_type": "markdown",
   "id": "ce603086-4884-423e-9cce-9a9456b7577e",
   "metadata": {},
   "source": [
    "#### flatMap()에 제너레이터 함수 적용"
   ]
  },
  {
   "cell_type": "code",
   "execution_count": 139,
   "id": "847afc39-dc0b-4ff4-b1a1-6f76751850ca",
   "metadata": {},
   "outputs": [
    {
     "data": {
      "text/plain": [
       "[Row(time='2022-02-06 12:13:41', word='@dkdtmxkcoth'),\n",
       " Row(time='2022-02-06 12:13:41', word='나도'),\n",
       " Row(time='2022-02-06 12:13:41', word='같커잖아...'),\n",
       " Row(time='2022-02-06 12:13:42', word='RT'),\n",
       " Row(time='2022-02-06 12:13:42', word='@Rmlove09127:')]"
      ]
     },
     "execution_count": 139,
     "metadata": {},
     "output_type": "execute_result"
    }
   ],
   "source": [
    "df.filter(\"data.lang = 'ko'\").rdd.flatMap(text_split).take(5)"
   ]
  },
  {
   "cell_type": "markdown",
   "id": "b88f59b8-1eab-4407-9370-8e6df5176e3b",
   "metadata": {},
   "source": [
    "#### toDF()를 사용해 데이터 프레임으로 변환"
   ]
  },
  {
   "cell_type": "code",
   "execution_count": 161,
   "id": "d9f679eb-ff05-460f-a7b7-25f658b1c2d6",
   "metadata": {},
   "outputs": [
    {
     "data": {
      "text/plain": [
       "DataFrame[time: string, word: string]"
      ]
     },
     "execution_count": 161,
     "metadata": {},
     "output_type": "execute_result"
    }
   ],
   "source": [
    "df.filter(\"data.lang = 'ko'\").rdd.flatMap(text_split).toDF()"
   ]
  },
  {
   "cell_type": "markdown",
   "id": "edbbdca5-e502-47ae-a818-7cb62080e750",
   "metadata": {},
   "source": [
    "### Spark 프로그램에 있어서의 DAG 실행\n",
    "- 235 page"
   ]
  },
  {
   "cell_type": "code",
   "execution_count": 162,
   "id": "72924cda-d860-4e08-832d-f82c8878f79c",
   "metadata": {},
   "outputs": [],
   "source": [
    "ko_words = df.filter(\"data.lang = 'ko'\").rdd.flatMap(text_split).toDF()"
   ]
  },
  {
   "cell_type": "code",
   "execution_count": 163,
   "id": "d132847d-3104-47b6-b98d-7904dfdd1455",
   "metadata": {},
   "outputs": [],
   "source": [
    "ko_words.createOrReplaceTempView(\"ko_words\")"
   ]
  },
  {
   "cell_type": "code",
   "execution_count": 164,
   "id": "b7924489-0666-4718-bab8-083325f9a455",
   "metadata": {},
   "outputs": [
    {
     "name": "stderr",
     "output_type": "stream",
     "text": [
      "[Stage 95:=====================================================>  (18 + 1) / 19]\r"
     ]
    },
    {
     "name": "stdout",
     "output_type": "stream",
     "text": [
      "+----+-----+\n",
      "|word|  cnt|\n",
      "+----+-----+\n",
      "|  RT|23188|\n",
      "|너무| 2088|\n",
      "|진짜| 1615|\n",
      "|  잘| 1323|\n",
      "|  거| 1215|\n",
      "|  이| 1146|\n",
      "|  수| 1043|\n",
      "|  다| 1041|\n",
      "|  나|  989|\n",
      "|우리|  967|\n",
      "+----+-----+\n",
      "only showing top 10 rows\n",
      "\n"
     ]
    },
    {
     "name": "stderr",
     "output_type": "stream",
     "text": [
      "                                                                                \r"
     ]
    }
   ],
   "source": [
    "query = \"\"\"\n",
    "select\n",
    "        word\n",
    "    , count(*) as cnt\n",
    "from ko_words\n",
    "group by word\n",
    "order by cnt desc\n",
    "\"\"\"\n",
    "\n",
    "spark.sql(query).show(10)"
   ]
  },
  {
   "cell_type": "markdown",
   "id": "00fef6be-cbc7-4071-ba95-839328c7d0bf",
   "metadata": {},
   "source": [
    "### 저장\n",
    "- 책 236page "
   ]
  },
  {
   "cell_type": "code",
   "execution_count": 165,
   "id": "1fc80eca-13b9-4304-a35d-04f6fefa081d",
   "metadata": {},
   "outputs": [
    {
     "name": "stderr",
     "output_type": "stream",
     "text": [
      "22/02/13 22:10:30 WARN HiveConf: HiveConf of name hive.stats.jdbc.timeout does not exist\n",
      "22/02/13 22:10:30 WARN HiveConf: HiveConf of name hive.stats.retries.wait does not exist\n",
      "22/02/13 22:10:33 WARN ObjectStore: Version information not found in metastore. hive.metastore.schema.verification is not enabled so recording the schema version 2.3.0\n",
      "22/02/13 22:10:33 WARN ObjectStore: setMetaStoreSchemaVersion called but recording version is disabled: version = 2.3.0, comment = Set by MetaStore mentha@127.0.1.1\n",
      "22/02/13 22:11:34 WARN SessionState: METASTORE_FILTER_HOOK will be ignored, since hive.security.authorization.manager is set to instance of HiveAuthorizerFactory.\n",
      "22/02/13 22:11:34 WARN HiveConf: HiveConf of name hive.internal.ss.authz.settings.applied.marker does not exist\n",
      "22/02/13 22:11:34 WARN HiveConf: HiveConf of name hive.stats.jdbc.timeout does not exist\n",
      "22/02/13 22:11:34 WARN HiveConf: HiveConf of name hive.stats.retries.wait does not exist\n"
     ]
    }
   ],
   "source": [
    "ko_words.write.saveAsTable(\"ko_words_sample\")"
   ]
  },
  {
   "cell_type": "code",
   "execution_count": 167,
   "id": "5cb3f265-e0f6-4d5b-af9f-0540267b42d1",
   "metadata": {},
   "outputs": [
    {
     "name": "stdout",
     "output_type": "stream",
     "text": [
      "spark-warehouse:\n",
      "ko_words_sample\n",
      "\n",
      "spark-warehouse/ko_words_sample:\n",
      "part-00000-f0393773-2581-4e08-91a1-971f8ef96972-c000.snappy.parquet\n",
      "part-00001-f0393773-2581-4e08-91a1-971f8ef96972-c000.snappy.parquet\n",
      "part-00002-f0393773-2581-4e08-91a1-971f8ef96972-c000.snappy.parquet\n",
      "part-00003-f0393773-2581-4e08-91a1-971f8ef96972-c000.snappy.parquet\n",
      "part-00004-f0393773-2581-4e08-91a1-971f8ef96972-c000.snappy.parquet\n",
      "part-00005-f0393773-2581-4e08-91a1-971f8ef96972-c000.snappy.parquet\n",
      "part-00006-f0393773-2581-4e08-91a1-971f8ef96972-c000.snappy.parquet\n",
      "part-00007-f0393773-2581-4e08-91a1-971f8ef96972-c000.snappy.parquet\n",
      "part-00008-f0393773-2581-4e08-91a1-971f8ef96972-c000.snappy.parquet\n",
      "part-00009-f0393773-2581-4e08-91a1-971f8ef96972-c000.snappy.parquet\n",
      "part-00010-f0393773-2581-4e08-91a1-971f8ef96972-c000.snappy.parquet\n",
      "part-00011-f0393773-2581-4e08-91a1-971f8ef96972-c000.snappy.parquet\n",
      "part-00012-f0393773-2581-4e08-91a1-971f8ef96972-c000.snappy.parquet\n",
      "part-00013-f0393773-2581-4e08-91a1-971f8ef96972-c000.snappy.parquet\n",
      "part-00014-f0393773-2581-4e08-91a1-971f8ef96972-c000.snappy.parquet\n",
      "part-00015-f0393773-2581-4e08-91a1-971f8ef96972-c000.snappy.parquet\n",
      "part-00016-f0393773-2581-4e08-91a1-971f8ef96972-c000.snappy.parquet\n",
      "part-00017-f0393773-2581-4e08-91a1-971f8ef96972-c000.snappy.parquet\n",
      "part-00018-f0393773-2581-4e08-91a1-971f8ef96972-c000.snappy.parquet\n",
      "_SUCCESS\n"
     ]
    }
   ],
   "source": [
    "!ls -R spark-warehouse"
   ]
  },
  {
   "cell_type": "markdown",
   "id": "cfd0e737-8f8a-433e-a4b0-a348a41383e6",
   "metadata": {},
   "source": [
    "### 저장한 파일 사용하기"
   ]
  },
  {
   "cell_type": "code",
   "execution_count": 169,
   "id": "736645f2-e80c-4d88-8fe4-e81fb870ee15",
   "metadata": {},
   "outputs": [
    {
     "data": {
      "text/plain": [
       "522415"
      ]
     },
     "execution_count": 169,
     "metadata": {},
     "output_type": "execute_result"
    }
   ],
   "source": [
    "spark.table(\"ko_words_sample\").count()"
   ]
  },
  {
   "cell_type": "code",
   "execution_count": 173,
   "id": "51e86b6e-b17f-427a-9df5-98498dd67e43",
   "metadata": {},
   "outputs": [
    {
     "name": "stdout",
     "output_type": "stream",
     "text": [
      "+-------------------+-------------+\n",
      "|               time|         word|\n",
      "+-------------------+-------------+\n",
      "|2022-02-06 14:22:49|           RT|\n",
      "|2022-02-06 14:22:49|@yangxxddeum:|\n",
      "|2022-02-06 14:22:49|       여러분|\n",
      "+-------------------+-------------+\n",
      "only showing top 3 rows\n",
      "\n"
     ]
    }
   ],
   "source": [
    "spark.table(\"ko_words_sample\").show(3)"
   ]
  },
  {
   "cell_type": "code",
   "execution_count": 176,
   "id": "b3803de0-422d-412e-b9a8-34f0ab8e413b",
   "metadata": {},
   "outputs": [
    {
     "name": "stdout",
     "output_type": "stream",
     "text": [
      "+----+-----+\n",
      "|word|  cnt|\n",
      "+----+-----+\n",
      "|  RT|23188|\n",
      "|너무| 2088|\n",
      "|진짜| 1615|\n",
      "|  잘| 1323|\n",
      "|  거| 1215|\n",
      "|  이| 1146|\n",
      "|  수| 1043|\n",
      "|  다| 1041|\n",
      "|  나|  989|\n",
      "|우리|  967|\n",
      "+----+-----+\n",
      "only showing top 10 rows\n",
      "\n"
     ]
    }
   ],
   "source": [
    "query = \"\"\"\n",
    "select\n",
    "        word\n",
    "    , count(*) as cnt\n",
    "from ko_words_sample\n",
    "group by word\n",
    "order by cnt desc\n",
    "\"\"\"\n",
    "\n",
    "spark.sql(query).show(10)"
   ]
  },
  {
   "cell_type": "markdown",
   "id": "e98920ec-b847-4450-b2d0-67e715e5d202",
   "metadata": {},
   "source": [
    "### 날짜 예제\n",
    "- 참고1: https://ourcstory.tistory.com/109\n",
    "- 참고2: https://docs.python.org/ko/3.9/library/datetime.html#strftime-and-strptime-format-codes"
   ]
  },
  {
   "cell_type": "code",
   "execution_count": 80,
   "id": "3ab7c964-4a37-45c9-8e36-291ecaaa9dad",
   "metadata": {},
   "outputs": [
    {
     "name": "stdout",
     "output_type": "stream",
     "text": [
      "2010-09-10 15:51:25.000000+0900 (KST)\n"
     ]
    },
    {
     "data": {
      "text/plain": [
       "datetime.datetime(2022, 2, 6, 12, 13, 41)"
      ]
     },
     "execution_count": 80,
     "metadata": {},
     "output_type": "execute_result"
    }
   ],
   "source": [
    "from datetime import datetime\n",
    "import tzlocal\n",
    "\n",
    "unix_timestamp = float(\"1284101485\")\n",
    "local_timezone = tzlocal.get_localzone() # get pytz timezone\n",
    "local_time = datetime.fromtimestamp(unix_timestamp, local_timezone)\n",
    "print(local_time.strftime(\"%Y-%m-%d %H:%M:%S.%f%z (%Z)\"))\n",
    "\n",
    "datetime.strptime(\"2022-02-06T12:13:41\", '%Y-%m-%dT%H:%M:%S')"
   ]
  },
  {
   "cell_type": "code",
   "execution_count": 91,
   "id": "bcee94b5-4305-4b5e-a3c5-2fd3c1670b24",
   "metadata": {},
   "outputs": [
    {
     "name": "stdout",
     "output_type": "stream",
     "text": [
      "09/26/2008\n"
     ]
    }
   ],
   "source": [
    "# 참고자료: https://stackoverflow.com/questions/214777/how-do-you-convert-yyyy-mm-ddthhmmss-000z-time-format-to-mm-dd-yyyy-time-forma\n",
    "from datetime import datetime\n",
    "date_format = \"%Y-%m-%dT%H:%M:%S.%fZ\" \n",
    "datetime.strptime('2008-09-26T01:51:42.000Z', date_format)\n",
    "# datetime(2008, 9, 26, 1, 51, 42)\n",
    "\n",
    "import dateutil.parser\n",
    "\n",
    "d = dateutil.parser.parse('2008-09-26T01:51:42.000Z')\n",
    "print(d.strftime('%m/%d/%Y'))  #==> '09/26/2008'"
   ]
  },
  {
   "cell_type": "code",
   "execution_count": null,
   "id": "58e21104-e692-4949-9809-0b6033c376e1",
   "metadata": {},
   "outputs": [],
   "source": []
  }
 ],
 "metadata": {
  "kernelspec": {
   "display_name": "Python 3 (ipykernel)",
   "language": "python",
   "name": "python3"
  },
  "language_info": {
   "codemirror_mode": {
    "name": "ipython",
    "version": 3
   },
   "file_extension": ".py",
   "mimetype": "text/x-python",
   "name": "python",
   "nbconvert_exporter": "python",
   "pygments_lexer": "ipython3",
   "version": "3.8.10"
  }
 },
 "nbformat": 4,
 "nbformat_minor": 5
}
