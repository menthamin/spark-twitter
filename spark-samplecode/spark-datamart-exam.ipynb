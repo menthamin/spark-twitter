{
 "cells": [
  {
   "cell_type": "markdown",
   "id": "2a517a4f-7ddd-4f9d-b975-3f2ec2e92e40",
   "metadata": {},
   "source": [
    "# 데이터 마트 구축하기\n",
    "+ Spark로 전처리한 열 지향 스토리지 활용 고속 집계\n",
    "+ 상세페이지: 237~\n",
    "+ 출처: 빅데이터를 지탱하는 기술 (나시다 케이스케)"
   ]
  },
  {
   "cell_type": "markdown",
   "id": "d7384b9f-833f-429c-b8d3-aa3a80c1f360",
   "metadata": {},
   "source": [
    "## 1. 데이터 확인"
   ]
  },
  {
   "cell_type": "code",
   "execution_count": 1,
   "id": "00c95a73-c2a5-4076-ba46-271343893934",
   "metadata": {},
   "outputs": [],
   "source": [
    "import os\n",
    "import time "
   ]
  },
  {
   "cell_type": "code",
   "execution_count": 12,
   "id": "d39edde7-27af-4157-9930-a4c49ec0c9b6",
   "metadata": {},
   "outputs": [
    {
     "data": {
      "text/plain": [
       "11629522"
      ]
     },
     "execution_count": 12,
     "metadata": {},
     "output_type": "execute_result"
    }
   ],
   "source": [
    "spark.table(\"ko_words_20220214\").count()"
   ]
  },
  {
   "cell_type": "code",
   "execution_count": 15,
   "id": "b25c3fd7-85c5-40e4-8649-b7c0414a72eb",
   "metadata": {},
   "outputs": [
    {
     "name": "stderr",
     "output_type": "stream",
     "text": [
      "22/02/16 23:01:08 WARN RowBasedKeyValueBatch: Calling spill() on RowBasedKeyValueBatch. Will not spill but return 0.\n",
      "22/02/16 23:01:08 WARN RowBasedKeyValueBatch: Calling spill() on RowBasedKeyValueBatch. Will not spill but return 0.\n",
      "22/02/16 23:01:08 WARN RowBasedKeyValueBatch: Calling spill() on RowBasedKeyValueBatch. Will not spill but return 0.\n",
      "22/02/16 23:01:08 WARN RowBasedKeyValueBatch: Calling spill() on RowBasedKeyValueBatch. Will not spill but return 0.\n",
      "22/02/16 23:01:08 WARN RowBasedKeyValueBatch: Calling spill() on RowBasedKeyValueBatch. Will not spill but return 0.\n",
      "22/02/16 23:01:08 WARN RowBasedKeyValueBatch: Calling spill() on RowBasedKeyValueBatch. Will not spill but return 0.\n",
      "22/02/16 23:01:08 WARN RowBasedKeyValueBatch: Calling spill() on RowBasedKeyValueBatch. Will not spill but return 0.\n",
      "22/02/16 23:01:08 WARN RowBasedKeyValueBatch: Calling spill() on RowBasedKeyValueBatch. Will not spill but return 0.\n",
      "22/02/16 23:01:10 WARN RowBasedKeyValueBatch: Calling spill() on RowBasedKeyValueBatch. Will not spill but return 0.\n",
      "22/02/16 23:01:10 WARN RowBasedKeyValueBatch: Calling spill() on RowBasedKeyValueBatch. Will not spill but return 0.\n",
      "22/02/16 23:01:10 WARN RowBasedKeyValueBatch: Calling spill() on RowBasedKeyValueBatch. Will not spill but return 0.\n",
      "22/02/16 23:01:10 WARN RowBasedKeyValueBatch: Calling spill() on RowBasedKeyValueBatch. Will not spill but return 0.\n",
      "22/02/16 23:01:10 WARN RowBasedKeyValueBatch: Calling spill() on RowBasedKeyValueBatch. Will not spill but return 0.\n",
      "22/02/16 23:01:10 WARN RowBasedKeyValueBatch: Calling spill() on RowBasedKeyValueBatch. Will not spill but return 0.\n",
      "22/02/16 23:01:10 WARN RowBasedKeyValueBatch: Calling spill() on RowBasedKeyValueBatch. Will not spill but return 0.\n",
      "22/02/16 23:01:10 WARN RowBasedKeyValueBatch: Calling spill() on RowBasedKeyValueBatch. Will not spill but return 0.\n",
      "22/02/16 23:01:11 WARN RowBasedKeyValueBatch: Calling spill() on RowBasedKeyValueBatch. Will not spill but return 0.\n",
      "22/02/16 23:01:11 WARN RowBasedKeyValueBatch: Calling spill() on RowBasedKeyValueBatch. Will not spill but return 0.\n",
      "22/02/16 23:01:11 WARN RowBasedKeyValueBatch: Calling spill() on RowBasedKeyValueBatch. Will not spill but return 0.\n",
      "22/02/16 23:01:11 WARN RowBasedKeyValueBatch: Calling spill() on RowBasedKeyValueBatch. Will not spill but return 0.\n",
      "22/02/16 23:01:11 WARN RowBasedKeyValueBatch: Calling spill() on RowBasedKeyValueBatch. Will not spill but return 0.\n",
      "                                                                                \r"
     ]
    },
    {
     "name": "stdout",
     "output_type": "stream",
     "text": [
      "+-------------+------------+---+\n",
      "|         time|        word|cnt|\n",
      "+-------------+------------+---+\n",
      "|2022-02-06 12|           :| 13|\n",
      "|2022-02-06 12|           :| 13|\n",
      "|2022-02-06 12|         kkk| 11|\n",
      "|2022-02-06 12|           o| 11|\n",
      "|2022-02-06 12|      ㅋㅋㅋ| 11|\n",
      "|2022-02-06 12|          𐨛| 11|\n",
      "|2022-02-06 12|           X| 10|\n",
      "|2022-02-06 12|           :|  9|\n",
      "|2022-02-06 12|           o|  9|\n",
      "|2022-02-06 12|스타킹페티쉬|  9|\n",
      "+-------------+------------+---+\n",
      "only showing top 10 rows\n",
      "\n"
     ]
    },
    {
     "name": "stderr",
     "output_type": "stream",
     "text": [
      "                                                                                \r"
     ]
    },
    {
     "data": {
      "text/plain": [
       "10987297"
      ]
     },
     "execution_count": 15,
     "metadata": {},
     "output_type": "execute_result"
    }
   ],
   "source": [
    "query = \"\"\"\n",
    "select \n",
    "    substr(time, 1, 13) as time\n",
    "    , word\n",
    "    , count(*) as cnt\n",
    "from ko_words_20220214\n",
    "group by time, word\n",
    "order by time, cnt desc, word\n",
    "\"\"\"\n",
    "\n",
    "spark.sql(query).show(10)\n",
    "spark.sql(query).count()"
   ]
  },
  {
   "cell_type": "markdown",
   "id": "4b833897-496e-480a-bdc8-bb3ece8cd01d",
   "metadata": {},
   "source": [
    "## 2. 등록 횟수가 적은 단어의 수를 조사"
   ]
  },
  {
   "cell_type": "code",
   "execution_count": 17,
   "id": "3cb3f3bd-9767-49bd-a939-63dec8382e85",
   "metadata": {},
   "outputs": [
    {
     "name": "stderr",
     "output_type": "stream",
     "text": [
      "[Stage 63:==============================================>           (4 + 1) / 5]\r"
     ]
    },
    {
     "name": "stdout",
     "output_type": "stream",
     "text": [
      "+---+---------+\n",
      "|cnt|words_cnt|\n",
      "+---+---------+\n",
      "|  1|  1392445|\n",
      "|  2|   213171|\n",
      "|  3|    92150|\n",
      "|  4|    52327|\n",
      "|  5|    34146|\n",
      "|  6|    25165|\n",
      "|  7|    18324|\n",
      "|  8|    14307|\n",
      "|  9|    11471|\n",
      "| 10|     9661|\n",
      "+---+---------+\n",
      "only showing top 10 rows\n",
      "\n"
     ]
    },
    {
     "name": "stderr",
     "output_type": "stream",
     "text": [
      "                                                                                \r"
     ]
    }
   ],
   "source": [
    "query = \"\"\"\n",
    "select\n",
    "    t.cnt\n",
    "    , count(*) as words_cnt\n",
    "from (\n",
    "    select\n",
    "        word\n",
    "        , count(*) as cnt \n",
    "    from ko_words_20220214\n",
    "    group by word\n",
    ") t\n",
    "group by t.cnt\n",
    "order by words_cnt desc\n",
    "\"\"\"\n",
    "\n",
    "spark.sql(query).show(10)"
   ]
  },
  {
   "cell_type": "markdown",
   "id": "f66def12-1412-40bf-83b0-16396c14c591",
   "metadata": {},
   "source": [
    "## 3. 단어를 카테고리로 나누는 디멘전 테이블 생성"
   ]
  },
  {
   "cell_type": "code",
   "execution_count": 25,
   "id": "ec2a452b-4e77-429d-ab87-3b21fd5d5671",
   "metadata": {},
   "outputs": [
    {
     "name": "stderr",
     "output_type": "stream",
     "text": [
      "[Stage 84:==============================================>           (4 + 1) / 5]\r"
     ]
    },
    {
     "name": "stdout",
     "output_type": "stream",
     "text": [
      "+----+------+--------+\n",
      "|word| count|category|\n",
      "+----+------+--------+\n",
      "|  RT|561390|      RT|\n",
      "|너무| 39247|    너무|\n",
      "|진짜| 36304|    진짜|\n",
      "|  이| 24138|      이|\n",
      "|   :| 23896|       :|\n",
      "|  다| 23381|      다|\n",
      "|  수| 23294|      수|\n",
      "|   -| 21314|       -|\n",
      "|  아| 19835|      아|\n",
      "|  한| 19593|      한|\n",
      "+----+------+--------+\n",
      "only showing top 10 rows\n",
      "\n"
     ]
    },
    {
     "name": "stderr",
     "output_type": "stream",
     "text": [
      "                                                                                \r"
     ]
    }
   ],
   "source": [
    "query = \"\"\"\n",
    "select \n",
    "    word\n",
    "    , count\n",
    "    , if(count > 1000, word, concat('count=', count)) as category\n",
    "from (\n",
    "    select\n",
    "        word\n",
    "        , count(*) as count\n",
    "    from ko_words_20220214\n",
    "    group by word\n",
    ") t\n",
    "-- where count < 5000 주석도 OK\n",
    "order by count desc\n",
    "\n",
    "\"\"\"\n",
    "spark.sql(query).show(10)"
   ]
  },
  {
   "cell_type": "markdown",
   "id": "1d1b03f9-1663-47af-8c88-f53ba64a8e8c",
   "metadata": {},
   "source": [
    "## 4. 임시 뷰로 등록"
   ]
  },
  {
   "cell_type": "code",
   "execution_count": 26,
   "id": "c0565843-7487-4c6f-82ba-d4c26d6a8c47",
   "metadata": {},
   "outputs": [],
   "source": [
    "spark.sql(query).createOrReplaceTempView(\"word_category\")"
   ]
  },
  {
   "cell_type": "code",
   "execution_count": 38,
   "id": "19de6e08-7f35-4a1d-8307-a4bf3b5df978",
   "metadata": {},
   "outputs": [
    {
     "name": "stderr",
     "output_type": "stream",
     "text": [
      "                                                                                \r"
     ]
    }
   ],
   "source": [
    "# 추가 정리: csv로 저장하기\n",
    "df_word_category = spark.sql(\"select * from word_category\").toPandas()"
   ]
  },
  {
   "cell_type": "code",
   "execution_count": 39,
   "id": "0b16ea8a-dcc6-4d73-bca6-7c28371b7bd3",
   "metadata": {},
   "outputs": [],
   "source": [
    "df_word_category.to_csv(\"word_category.csv\", index=False, encoding=\"utf8\")"
   ]
  },
  {
   "cell_type": "code",
   "execution_count": 30,
   "id": "d85b226a-f956-49f6-bd63-725bcbcd8002",
   "metadata": {},
   "outputs": [
    {
     "name": "stderr",
     "output_type": "stream",
     "text": [
      "[Stage 93:==================================>                       (3 + 2) / 5]\r"
     ]
    },
    {
     "name": "stdout",
     "output_type": "stream",
     "text": [
      "+----+------+--------+\n",
      "|word| count|category|\n",
      "+----+------+--------+\n",
      "|  RT|561390|      RT|\n",
      "|너무| 39247|    너무|\n",
      "+----+------+--------+\n",
      "only showing top 2 rows\n",
      "\n"
     ]
    },
    {
     "name": "stderr",
     "output_type": "stream",
     "text": [
      "                                                                                \r"
     ]
    }
   ],
   "source": [
    "spark.sql(\"select * from word_category\").show(2)"
   ]
  },
  {
   "cell_type": "markdown",
   "id": "f3b04eb8-1693-4da5-a81f-396e873bc12d",
   "metadata": {},
   "source": [
    "## 5. 집계\n",
    "+ 누적 count 1000회 미만의 중요하지 않은 단어는 제외해서 집계\n",
    "+ count 기준을 잡기 위해 windows function 사용 예정 \n",
    "+ https://spark.apache.org/docs/latest/sql-ref-syntax-qry-select-window.html"
   ]
  },
  {
   "cell_type": "code",
   "execution_count": 34,
   "id": "3b80cb24-e4ef-4b31-852c-c0cfeeba7fc5",
   "metadata": {},
   "outputs": [
    {
     "name": "stderr",
     "output_type": "stream",
     "text": [
      "22/02/16 23:15:53 WARN RowBasedKeyValueBatch: Calling spill() on RowBasedKeyValueBatch. Will not spill but return 0.\n",
      "22/02/16 23:15:53 WARN RowBasedKeyValueBatch: Calling spill() on RowBasedKeyValueBatch. Will not spill but return 0.\n",
      "22/02/16 23:15:53 WARN RowBasedKeyValueBatch: Calling spill() on RowBasedKeyValueBatch. Will not spill but return 0.\n",
      "22/02/16 23:15:53 WARN RowBasedKeyValueBatch: Calling spill() on RowBasedKeyValueBatch. Will not spill but return 0.\n",
      "22/02/16 23:15:54 WARN RowBasedKeyValueBatch: Calling spill() on RowBasedKeyValueBatch. Will not spill but return 0.\n",
      "22/02/16 23:15:54 WARN RowBasedKeyValueBatch: Calling spill() on RowBasedKeyValueBatch. Will not spill but return 0.\n",
      "22/02/16 23:15:54 WARN RowBasedKeyValueBatch: Calling spill() on RowBasedKeyValueBatch. Will not spill but return 0.\n",
      "22/02/16 23:15:54 WARN RowBasedKeyValueBatch: Calling spill() on RowBasedKeyValueBatch. Will not spill but return 0.\n",
      "22/02/16 23:16:00 WARN RowBasedKeyValueBatch: Calling spill() on RowBasedKeyValueBatch. Will not spill but return 0.\n",
      "22/02/16 23:16:00 WARN RowBasedKeyValueBatch: Calling spill() on RowBasedKeyValueBatch. Will not spill but return 0.\n",
      "22/02/16 23:16:00 WARN RowBasedKeyValueBatch: Calling spill() on RowBasedKeyValueBatch. Will not spill but return 0.\n",
      "[Stage 151:=============================================>           (4 + 1) / 5]\r"
     ]
    },
    {
     "name": "stdout",
     "output_type": "stream",
     "text": [
      "+-------------+---------+-----+\n",
      "|         time| category|count|\n",
      "+-------------+---------+-----+\n",
      "|2022-02-11 00|  count=3| 1296|\n",
      "|2022-02-12 18| count=29|  129|\n",
      "|2022-02-10 08| count=53|  211|\n",
      "|2022-02-12 22| count=16|  104|\n",
      "|2022-02-10 13| count=22|  373|\n",
      "|2022-02-13 06|  count=7|  962|\n",
      "|2022-02-06 16|  count=4| 1620|\n",
      "|2022-02-10 14| count=12|  855|\n",
      "|2022-02-14 10|count=864|    2|\n",
      "|2022-02-14 11|   #ATEEZ|   18|\n",
      "+-------------+---------+-----+\n",
      "only showing top 10 rows\n",
      "\n"
     ]
    },
    {
     "name": "stderr",
     "output_type": "stream",
     "text": [
      "                                                                                \r"
     ]
    }
   ],
   "source": [
    "query = \"\"\"\n",
    "select\n",
    "    substr(a.time, 1, 13) time\n",
    "    , b.category\n",
    "    , count(*) as count\n",
    "from ko_words_20220214 a\n",
    "left join word_category b\n",
    "on a.word = b.word\n",
    "group by 1, 2\n",
    "\"\"\"\n",
    "spark.sql(query).count()\n",
    "spark.sql(query).show(10)"
   ]
  },
  {
   "cell_type": "code",
   "execution_count": null,
   "id": "facbfc44-5abe-49fc-bda1-c2f0b6633070",
   "metadata": {},
   "outputs": [],
   "source": []
  }
 ],
 "metadata": {
  "kernelspec": {
   "display_name": "Python 3 (ipykernel)",
   "language": "python",
   "name": "python3"
  },
  "language_info": {
   "codemirror_mode": {
    "name": "ipython",
    "version": 3
   },
   "file_extension": ".py",
   "mimetype": "text/x-python",
   "name": "python",
   "nbconvert_exporter": "python",
   "pygments_lexer": "ipython3",
   "version": "3.8.10"
  }
 },
 "nbformat": 4,
 "nbformat_minor": 5
}
