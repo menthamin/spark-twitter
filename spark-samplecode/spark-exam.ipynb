{
 "cells": [
  {
   "cell_type": "markdown",
   "id": "0655fc23-12cc-4784-b771-7e632f9d54c2",
   "metadata": {},
   "source": [
    "# Spark 연동 및 Spark SQL 테스트"
   ]
  },
  {
   "cell_type": "code",
   "execution_count": 1,
   "id": "0ecddf40-b502-4a92-9260-f5f578e24a5e",
   "metadata": {},
   "outputs": [],
   "source": [
    "import os\n",
    "import time \n",
    "from pyspark.sql import Row"
   ]
  },
  {
   "cell_type": "code",
   "execution_count": 2,
   "id": "53fb6d3f-49aa-4273-9fab-fe4a0533e0ab",
   "metadata": {},
   "outputs": [
    {
     "name": "stderr",
     "output_type": "stream",
     "text": [
      "                                                                                \r"
     ]
    }
   ],
   "source": [
    "df = (spark.read.format(\"com.mongodb.spark.sql.DefaultSource\").option(\"uri\", \"mongodb://localhost/twitter.ko_tweet\").load())"
   ]
  },
  {
   "cell_type": "code",
   "execution_count": 3,
   "id": "e2bccbe1-f211-4110-863f-5b18c07ad3dc",
   "metadata": {},
   "outputs": [],
   "source": [
    "df.createOrReplaceTempView(\"tweets\")"
   ]
  },
  {
   "cell_type": "code",
   "execution_count": 4,
   "id": "9c50953a-8013-4355-8058-3f3a8e98699e",
   "metadata": {},
   "outputs": [
    {
     "name": "stdout",
     "output_type": "stream",
     "text": [
      "+--------------------+--------------------+--------------------+\n",
      "|                 _id|          _timestamp|                data|\n",
      "+--------------------+--------------------+--------------------+\n",
      "|{61ffbb80f6b8e9bd...|2022-02-06T21:13:...|{{null}, 11366454...|\n",
      "|{61ffbb81f6b8e9bd...|2022-02-06T21:13:...|{{null}, 13185747...|\n",
      "|{61ffbb81f6b8e9bd...|2022-02-06T21:13:...|{{null}, 13209349...|\n",
      "|{61ffbb81f6b8e9bd...|2022-02-06T21:13:...|{{null}, 24044293...|\n",
      "|{61ffbb81f6b8e9bd...|2022-02-06T21:13:...|{{null}, 30422362...|\n",
      "+--------------------+--------------------+--------------------+\n",
      "only showing top 5 rows\n",
      "\n"
     ]
    }
   ],
   "source": [
    "# df 선택하기 예시\n",
    "df.show(5)"
   ]
  },
  {
   "cell_type": "code",
   "execution_count": 5,
   "id": "1e569fa2-d84e-4578-82e2-fbe671157a1d",
   "metadata": {},
   "outputs": [],
   "source": [
    "#By using col() function\n",
    "from pyspark.sql.functions import col\n",
    "# df.select(col(\"data.created_at\"), col(\"data.text\"), col(\"data.lang\") == 'ko').show(truncate=False)\n",
    "# df.filter(\"data.lang = 'ko'\").collect()"
   ]
  },
  {
   "cell_type": "code",
   "execution_count": 7,
   "id": "ef7998ff-9ce5-4e8a-8518-2615c2181d38",
   "metadata": {},
   "outputs": [],
   "source": [
    "# spark.sql(\"select data from tweets\").show(3)"
   ]
  },
  {
   "cell_type": "code",
   "execution_count": 6,
   "id": "f0c64efe-3126-407e-b254-806fb57cd850",
   "metadata": {},
   "outputs": [],
   "source": [
    "query = \"\"\"\n",
    "select\n",
    "        data.lang\n",
    "    , count(*) as cnt\n",
    "from tweets\n",
    "group by data.lang\n",
    "order by cnt desc\n",
    "\"\"\""
   ]
  },
  {
   "cell_type": "markdown",
   "id": "65a49232-2821-46cb-b619-9e6077ec68e3",
   "metadata": {},
   "source": [
    "### 속도가 매우느리다\n",
    "- 쿼리의 실행 속도는 스토리지의 성능에 의존한다.\n",
    "- MongoDB의 경우 열지 향 스토리지처럼 컬럼 단위의 읽기에\n",
    "- 최적화 되어있지는 않으므로, 그대로는 고속 집계에 적합하지 않다.\n",
    "- 최적화를 위해서는 한 차례 데이터를 추출해야 한다.\n",
    "- 234page"
   ]
  },
  {
   "cell_type": "code",
   "execution_count": 11,
   "id": "16834be1-33ab-4827-b81b-a5cbeaaebd27",
   "metadata": {},
   "outputs": [
    {
     "name": "stderr",
     "output_type": "stream",
     "text": [
      "[Stage 8:======================================================>  (18 + 1) / 19]\r"
     ]
    },
    {
     "name": "stdout",
     "output_type": "stream",
     "text": [
      "+----+------+\n",
      "|lang|   cnt|\n",
      "+----+------+\n",
      "|  en|284549|\n",
      "|  ja|189826|\n",
      "| und| 88200|\n",
      "|  th| 61411|\n",
      "|  es| 56196|\n",
      "|  ko| 44486|\n",
      "|  ar| 44412|\n",
      "|  tr| 42052|\n",
      "|  pt| 40400|\n",
      "|  in| 38053|\n",
      "|  fr| 19267|\n",
      "|  tl| 14915|\n",
      "|  hi| 14359|\n",
      "|  it|  9141|\n",
      "|  ru|  5946|\n",
      "|  de|  5654|\n",
      "|  zh|  5024|\n",
      "|  fa|  4956|\n",
      "|  pl|  4031|\n",
      "|  ur|  3548|\n",
      "+----+------+\n",
      "only showing top 20 rows\n",
      "\n",
      "time:  30.504709243774414\n"
     ]
    },
    {
     "name": "stderr",
     "output_type": "stream",
     "text": [
      "                                                                                \r"
     ]
    }
   ],
   "source": [
    "strt_time = time.time()\n",
    "spark.sql(query).show()\n",
    "print(\"time: \", time.time() - strt_time)"
   ]
  },
  {
   "cell_type": "markdown",
   "id": "c8d683ff-2234-4176-88f1-fc907f0dfd63",
   "metadata": {},
   "source": [
    "## 텍스트 데이터의 가공\n",
    "- 234 page"
   ]
  },
  {
   "cell_type": "code",
   "execution_count": 10,
   "id": "3c3b65f4-95ff-4659-86ee-5f2d8a3a6b9e",
   "metadata": {},
   "outputs": [
    {
     "name": "stdout",
     "output_type": "stream",
     "text": [
      "+--------------------+--------------------+--------------------+-----------------------+\n",
      "|                 _id|          _timestamp|                data|                   text|\n",
      "+--------------------+--------------------+--------------------+-----------------------+\n",
      "|{61ffbb80f6b8e9bd...|2022-02-06T21:13:...|{{null}, 11366454...|@dkdtmxkcoth 나도 같...|\n",
      "|{61ffbb81f6b8e9bd...|2022-02-06T21:13:...|{{null}, 13185747...|   RT @Rmlove09127: ...|\n",
      "|{61ffbb81f6b8e9bd...|2022-02-06T21:13:...|{{null}, 13209349...|   RT @BYangsalang: ...|\n",
      "+--------------------+--------------------+--------------------+-----------------------+\n",
      "only showing top 3 rows\n",
      "\n"
     ]
    }
   ],
   "source": [
    "spark.sql(\"select t1.*,  t1.data.text from tweets t1\").show(3)"
   ]
  },
  {
   "cell_type": "code",
   "execution_count": 39,
   "id": "c4eee73a-892e-4ef2-ae46-72d5d47cf4fa",
   "metadata": {},
   "outputs": [],
   "source": [
    "query = \"\"\"\n",
    "select from_unixtime(data.created_at / 1000) time, data.text\n",
    "from tweets where data.lang = 'en'\n",
    "\"\"\"\n",
    "\n",
    "query_2 = \"\"\"\n",
    "select data.created_at, data.text\n",
    "from tweets where data.lang = 'en'\n",
    "\"\"\""
   ]
  },
  {
   "cell_type": "code",
   "execution_count": 113,
   "id": "e6c004e3-5ace-49e0-b5df-278745cd925b",
   "metadata": {},
   "outputs": [
    {
     "name": "stdout",
     "output_type": "stream",
     "text": [
      "+--------------------+--------------------+\n",
      "|          created_at|                text|\n",
      "+--------------------+--------------------+\n",
      "|2022-02-06T12:13:...|@EyesRightPhoto @...|\n",
      "|2022-02-06T12:13:...|RT @IanByrneMP: R...|\n",
      "|2022-02-06T12:13:...| @ifnotyoursha tilly|\n",
      "+--------------------+--------------------+\n",
      "only showing top 3 rows\n",
      "\n"
     ]
    }
   ],
   "source": [
    "spark.sql(query_2).show(3)"
   ]
  },
  {
   "cell_type": "code",
   "execution_count": 11,
   "id": "0438707a-38c7-4c6f-b1f4-c8e688ee902c",
   "metadata": {},
   "outputs": [],
   "source": [
    "from pyspark.sql import Row\n",
    "from datetime import datetime\n",
    "import dateutil.parser\n",
    "\n",
    "def string_to_datetime(str):\n",
    "    d = dateutil.parser.parse(str)\n",
    "    return d.strftime('%Y-%m-%d %H:%M:%S')\n",
    "    # return datetime.strptime(str, '%Y-%m-%dT%H:%M:%S.000Z')\n",
    "\n",
    "def text_split(row):\n",
    "    \"\"\"트윗을 단어로 분해하는 제너레이터 함수\n",
    "        :Args: row \n",
    "        \n",
    "        :returns \n",
    "            - Row() 객체로 반환\n",
    "    \"\"\"\n",
    "    if row.data:\n",
    "        for word in row.data.text.split():\n",
    "            yield Row(time=string_to_datetime(row.data.created_at), word=word)\n",
    "            # yield Row(time=row.data.created_at, word=word)\n",
    "        # except as e:\n",
    "            "
   ]
  },
  {
   "cell_type": "markdown",
   "id": "5b7e7dea-57d8-4701-b83e-72cf24a6fae8",
   "metadata": {},
   "source": [
    "#### '.rdd'로 원시 레코드 참조"
   ]
  },
  {
   "cell_type": "code",
   "execution_count": 14,
   "id": "5168e41d-ded9-4dd5-94ac-d12eee720740",
   "metadata": {},
   "outputs": [
    {
     "data": {
      "text/plain": [
       "[Row(_id=Row(oid='61ffbb80f6b8e9bd026bb4f6'), _timestamp='2022-02-06T21:13:52.836027+09:00', data=Row(attachments=Row(media_keys=None), author_id='1136645494019461120', context_annotations=None, conversation_id='1490279570297307137', created_at='2022-02-06T12:13:41.000Z', entities=Row(hashtags=None, mentions=[Row(start=0, end=12, username='dkdtmxkcoth', id='1424626232667242496')], urls=None), id='1490297645189177344', in_reply_to_user_id='1424626232667242496', lang='ko', possibly_sensitive=False, public_metrics=Row(retweet_count=0, reply_count=0, like_count=0, quote_count=0), referenced_tweets=[Row(type='replied_to', id='1490297548354899972')], reply_settings='everyone', source='Twitter for Android', text='@dkdtmxkcoth 나도 같커잖아...')),\n",
       " Row(_id=Row(oid='61ffbb81f6b8e9bd026bb4ff'), _timestamp='2022-02-06T21:13:53.025851+09:00', data=Row(attachments=Row(media_keys=None), author_id='1318574774214225927', context_annotations=None, conversation_id='1490297649399926789', created_at='2022-02-06T12:13:42.000Z', entities=Row(hashtags=[Row(start=24, end=27, tag='RT')], mentions=[Row(start=3, end=15, username='Rmlove09127', id='1017652304021819392')], urls=[Row(description='단면인쇄입니다 (뒷면흰색)폼을 먼저 작성하고 폼이 정상적으로 작성되셨다면 그 이후에 배송비를 포함하여 입금 해주세요.폼 작성하실때 폼 위쪽', display_url='takemm.com/prod/view/10578', end=95, expanded_url='https://www.takemm.com/prod/view/10578', images=[Row(url='https://pbs.twimg.com/news_img/1489605468716613632/a3LgKsj9?format=jpg&name=orig', width=320, height=240), Row(url='https://pbs.twimg.com/news_img/1489605468716613632/a3LgKsj9?format=jpg&name=150x150', width=150, height=150)], start=72, status=200, title='봄날 아크릴 공구 (지며리) - TMM', unwound_url='https://www.takemm.com/prod/view/10578', url='https://t.co/tU2h2uhEkG')]), id='1490297649399926789', in_reply_to_user_id=None, lang='ko', possibly_sensitive=False, public_metrics=Row(retweet_count=624, reply_count=0, like_count=0, quote_count=0), referenced_tweets=[Row(type='retweeted', id='1487027793229594630')], reply_settings='mentionedUsers', source='Twitter for Android', text='RT @Rmlove09127: 아크릴 공구\\n#RT 추첨 1분께 1세트 보내드릴게요\\n\\n🎶지금부터 ~ 2/13 오후11시59분까지\\n🔗https://t.co/tU2h2uhEkG\\nㄴ 폼 작성 먼저하고 \"바로\" 입금부탁드려요\\n\\n&lt;세트,개별 판매 다 있습니다…')),\n",
       " Row(_id=Row(oid='61ffbb81f6b8e9bd026bb503'), _timestamp='2022-02-06T21:13:53.215722+09:00', data=Row(attachments=Row(media_keys=None), author_id='1320934953308176386', context_annotations=[Row(domain=Row(description='Named people in the world like Nelson Mandela', id='10', name='Person'), entity=Row(description=None, id='1435212171785375748', name='Lim Youngwoong')), Row(domain=Row(description='A musician in the world, like Adele or Bob Dylan', id='54', name='Musician'), entity=Row(description=None, id='1435212171785375748', name='Lim Youngwoong'))], conversation_id='1490297649404153859', created_at='2022-02-06T12:13:42.000Z', entities=Row(hashtags=[Row(start=62, end=66, tag='임영웅'), Row(start=67, end=81, tag='limyoungwoong'), Row(start=82, end=91, tag='임영웅Short'), Row(start=92, end=99, tag='임영웅유튜브'), Row(start=100, end=113, tag='임영웅따라따라_7백만뷰'), Row(start=114, end=127, tag='임영웅음원강자_HERO')], mentions=[Row(start=3, end=15, username='BYangsalang', id='1474993875391434755')], urls=None), id='1490297649404153859', in_reply_to_user_id=None, lang='ko', possibly_sensitive=False, public_metrics=Row(retweet_count=11, reply_count=0, like_count=0, quote_count=0), referenced_tweets=[Row(type='retweeted', id='1490290565086277636')], reply_settings='everyone', source='Twitter for Android', text='RT @BYangsalang: 임영웅 [따라따라] 사콜ver. 7백만뷰돌파 🎊\\n아티스트임영웅🌟음원강자HERO\\n\\n#임영웅 #limyoungwoong\\n#임영웅Short #임영웅유튜브\\n#임영웅따라따라_7백만뷰\\n#임영웅음원강자_HERO\\n#아티스트임영웅_음원…')),\n",
       " Row(_id=Row(oid='61ffbb81f6b8e9bd026bb509'), _timestamp='2022-02-06T21:13:53.434050+09:00', data=Row(attachments=Row(media_keys=None), author_id='2404429310', context_annotations=None, conversation_id='1490297649370902531', created_at='2022-02-06T12:13:42.000Z', entities=Row(hashtags=None, mentions=None, urls=None), id='1490297649370902531', in_reply_to_user_id=None, lang='ko', possibly_sensitive=False, public_metrics=Row(retweet_count=0, reply_count=0, like_count=0, quote_count=0), referenced_tweets=None, reply_settings='everyone', source='twittbot.net', text='모두들 힘껏 뛰었지만 늦어 버렸어. 자넬리도 말이야, 열심히 뛰었는데 쫓아오지 못했어.')),\n",
       " Row(_id=Row(oid='61ffbb81f6b8e9bd026bb51d'), _timestamp='2022-02-06T21:13:53.523936+09:00', data=Row(attachments=Row(media_keys=None), author_id='3042236256', context_annotations=None, conversation_id='1490297649366376451', created_at='2022-02-06T12:13:42.000Z', entities=Row(hashtags=None, mentions=[Row(start=3, end=13, username='Chuverall', id='1684971974')], urls=None), id='1490297649366376451', in_reply_to_user_id=None, lang='ko', possibly_sensitive=False, public_metrics=Row(retweet_count=23052, reply_count=0, like_count=0, quote_count=0), referenced_tweets=[Row(type='retweeted', id='1387571928961929217')], reply_settings='everyone', source='Twitter for Android', text='RT @Chuverall: 이게 덕질할 때 2년 법칙이 있는데\\n뭔가 열심히 덕질한 것도 2년 지나면 1차 고비가 옴,,, 많은 일들이 2년차 전후로 정리가 됨..,, 근데 2년차 지나서까지 안 식으면 그 때부터 장기 플랜 짜야됨 최소 5년은 한다는…'))]"
      ]
     },
     "execution_count": 14,
     "metadata": {},
     "output_type": "execute_result"
    }
   ],
   "source": [
    "df.rdd.take(5)"
   ]
  },
  {
   "cell_type": "markdown",
   "id": "ce603086-4884-423e-9cce-9a9456b7577e",
   "metadata": {},
   "source": [
    "#### flatMap()에 제너레이터 함수 적용"
   ]
  },
  {
   "cell_type": "code",
   "execution_count": 15,
   "id": "847afc39-dc0b-4ff4-b1a1-6f76751850ca",
   "metadata": {},
   "outputs": [
    {
     "data": {
      "text/plain": [
       "[Row(time='2022-02-06 12:13:41', word='@dkdtmxkcoth'),\n",
       " Row(time='2022-02-06 12:13:41', word='나도'),\n",
       " Row(time='2022-02-06 12:13:41', word='같커잖아...'),\n",
       " Row(time='2022-02-06 12:13:42', word='RT'),\n",
       " Row(time='2022-02-06 12:13:42', word='@Rmlove09127:')]"
      ]
     },
     "execution_count": 15,
     "metadata": {},
     "output_type": "execute_result"
    }
   ],
   "source": [
    "df.rdd.flatMap(text_split).take(5)"
   ]
  },
  {
   "cell_type": "markdown",
   "id": "b88f59b8-1eab-4407-9370-8e6df5176e3b",
   "metadata": {},
   "source": [
    "#### toDF()를 사용해 데이터 프레임으로 변환"
   ]
  },
  {
   "cell_type": "code",
   "execution_count": 16,
   "id": "d9f679eb-ff05-460f-a7b7-25f658b1c2d6",
   "metadata": {},
   "outputs": [
    {
     "data": {
      "text/plain": [
       "DataFrame[time: string, word: string]"
      ]
     },
     "execution_count": 16,
     "metadata": {},
     "output_type": "execute_result"
    }
   ],
   "source": [
    "df.rdd.flatMap(text_split).toDF()"
   ]
  },
  {
   "cell_type": "markdown",
   "id": "edbbdca5-e502-47ae-a818-7cb62080e750",
   "metadata": {},
   "source": [
    "### Spark 프로그램에 있어서의 DAG 실행\n",
    "- 235 page"
   ]
  },
  {
   "cell_type": "code",
   "execution_count": 18,
   "id": "72924cda-d860-4e08-832d-f82c8878f79c",
   "metadata": {},
   "outputs": [],
   "source": [
    "ko_words = df.rdd.flatMap(text_split).toDF()"
   ]
  },
  {
   "cell_type": "code",
   "execution_count": 19,
   "id": "d132847d-3104-47b6-b98d-7904dfdd1455",
   "metadata": {},
   "outputs": [],
   "source": [
    "ko_words.createOrReplaceTempView(\"ko_words\")"
   ]
  },
  {
   "cell_type": "code",
   "execution_count": 20,
   "id": "b7924489-0666-4718-bab8-083325f9a455",
   "metadata": {},
   "outputs": [
    {
     "name": "stderr",
     "output_type": "stream",
     "text": [
      "[Stage 12:>                                                         (0 + 4) / 4]\r"
     ]
    },
    {
     "name": "stdout",
     "output_type": "stream",
     "text": [
      "+----+------+\n",
      "|word|   cnt|\n",
      "+----+------+\n",
      "|  RT|561390|\n",
      "|너무| 39247|\n",
      "|진짜| 36304|\n",
      "|  이| 24138|\n",
      "|   :| 23896|\n",
      "|  다| 23381|\n",
      "|  수| 23294|\n",
      "|   -| 21314|\n",
      "|  아| 19835|\n",
      "|  한| 19593|\n",
      "+----+------+\n",
      "only showing top 10 rows\n",
      "\n"
     ]
    },
    {
     "name": "stderr",
     "output_type": "stream",
     "text": [
      "                                                                                \r"
     ]
    }
   ],
   "source": [
    "query = \"\"\"\n",
    "select\n",
    "        word\n",
    "    , count(*) as cnt\n",
    "from ko_words\n",
    "group by word\n",
    "order by cnt desc\n",
    "\"\"\"\n",
    "\n",
    "spark.sql(query).show(10)"
   ]
  },
  {
   "cell_type": "markdown",
   "id": "00fef6be-cbc7-4071-ba95-839328c7d0bf",
   "metadata": {},
   "source": [
    "### 저장\n",
    "- 책 236page "
   ]
  },
  {
   "cell_type": "code",
   "execution_count": 21,
   "id": "1fc80eca-13b9-4304-a35d-04f6fefa081d",
   "metadata": {},
   "outputs": [
    {
     "name": "stderr",
     "output_type": "stream",
     "text": [
      "22/02/14 23:30:17 WARN HiveConf: HiveConf of name hive.stats.jdbc.timeout does not exist\n",
      "22/02/14 23:30:17 WARN HiveConf: HiveConf of name hive.stats.retries.wait does not exist\n",
      "22/02/14 23:30:19 WARN ObjectStore: Version information not found in metastore. hive.metastore.schema.verification is not enabled so recording the schema version 2.3.0\n",
      "22/02/14 23:30:19 WARN ObjectStore: setMetaStoreSchemaVersion called but recording version is disabled: version = 2.3.0, comment = Set by MetaStore mentha@127.0.1.1\n",
      "22/02/14 23:38:59 WARN SessionState: METASTORE_FILTER_HOOK will be ignored, since hive.security.authorization.manager is set to instance of HiveAuthorizerFactory.\n",
      "22/02/14 23:38:59 WARN HiveConf: HiveConf of name hive.internal.ss.authz.settings.applied.marker does not exist\n",
      "22/02/14 23:38:59 WARN HiveConf: HiveConf of name hive.stats.jdbc.timeout does not exist\n",
      "22/02/14 23:38:59 WARN HiveConf: HiveConf of name hive.stats.retries.wait does not exist\n"
     ]
    }
   ],
   "source": [
    "ko_words.write.saveAsTable(\"ko_words_20220214\")"
   ]
  },
  {
   "cell_type": "code",
   "execution_count": 22,
   "id": "5cb3f265-e0f6-4d5b-af9f-0540267b42d1",
   "metadata": {},
   "outputs": [
    {
     "name": "stdout",
     "output_type": "stream",
     "text": [
      "spark-warehouse:\n",
      "ko_words_20220214  ko_words_sample\n",
      "\n",
      "spark-warehouse/ko_words_20220214:\n",
      "part-00000-50910220-3ef8-42cf-81df-4416681be13b-c000.snappy.parquet\n",
      "part-00001-50910220-3ef8-42cf-81df-4416681be13b-c000.snappy.parquet\n",
      "part-00002-50910220-3ef8-42cf-81df-4416681be13b-c000.snappy.parquet\n",
      "part-00003-50910220-3ef8-42cf-81df-4416681be13b-c000.snappy.parquet\n",
      "part-00004-50910220-3ef8-42cf-81df-4416681be13b-c000.snappy.parquet\n",
      "part-00005-50910220-3ef8-42cf-81df-4416681be13b-c000.snappy.parquet\n",
      "part-00006-50910220-3ef8-42cf-81df-4416681be13b-c000.snappy.parquet\n",
      "part-00007-50910220-3ef8-42cf-81df-4416681be13b-c000.snappy.parquet\n",
      "part-00008-50910220-3ef8-42cf-81df-4416681be13b-c000.snappy.parquet\n",
      "part-00009-50910220-3ef8-42cf-81df-4416681be13b-c000.snappy.parquet\n",
      "part-00010-50910220-3ef8-42cf-81df-4416681be13b-c000.snappy.parquet\n",
      "part-00011-50910220-3ef8-42cf-81df-4416681be13b-c000.snappy.parquet\n",
      "part-00012-50910220-3ef8-42cf-81df-4416681be13b-c000.snappy.parquet\n",
      "part-00013-50910220-3ef8-42cf-81df-4416681be13b-c000.snappy.parquet\n",
      "part-00014-50910220-3ef8-42cf-81df-4416681be13b-c000.snappy.parquet\n",
      "part-00015-50910220-3ef8-42cf-81df-4416681be13b-c000.snappy.parquet\n",
      "part-00016-50910220-3ef8-42cf-81df-4416681be13b-c000.snappy.parquet\n",
      "part-00017-50910220-3ef8-42cf-81df-4416681be13b-c000.snappy.parquet\n",
      "part-00018-50910220-3ef8-42cf-81df-4416681be13b-c000.snappy.parquet\n",
      "part-00019-50910220-3ef8-42cf-81df-4416681be13b-c000.snappy.parquet\n",
      "_SUCCESS\n",
      "\n",
      "spark-warehouse/ko_words_sample:\n",
      "part-00000-f0393773-2581-4e08-91a1-971f8ef96972-c000.snappy.parquet\n",
      "part-00001-f0393773-2581-4e08-91a1-971f8ef96972-c000.snappy.parquet\n",
      "part-00002-f0393773-2581-4e08-91a1-971f8ef96972-c000.snappy.parquet\n",
      "part-00003-f0393773-2581-4e08-91a1-971f8ef96972-c000.snappy.parquet\n",
      "part-00004-f0393773-2581-4e08-91a1-971f8ef96972-c000.snappy.parquet\n",
      "part-00005-f0393773-2581-4e08-91a1-971f8ef96972-c000.snappy.parquet\n",
      "part-00006-f0393773-2581-4e08-91a1-971f8ef96972-c000.snappy.parquet\n",
      "part-00007-f0393773-2581-4e08-91a1-971f8ef96972-c000.snappy.parquet\n",
      "part-00008-f0393773-2581-4e08-91a1-971f8ef96972-c000.snappy.parquet\n",
      "part-00009-f0393773-2581-4e08-91a1-971f8ef96972-c000.snappy.parquet\n",
      "part-00010-f0393773-2581-4e08-91a1-971f8ef96972-c000.snappy.parquet\n",
      "part-00011-f0393773-2581-4e08-91a1-971f8ef96972-c000.snappy.parquet\n",
      "part-00012-f0393773-2581-4e08-91a1-971f8ef96972-c000.snappy.parquet\n",
      "part-00013-f0393773-2581-4e08-91a1-971f8ef96972-c000.snappy.parquet\n",
      "part-00014-f0393773-2581-4e08-91a1-971f8ef96972-c000.snappy.parquet\n",
      "part-00015-f0393773-2581-4e08-91a1-971f8ef96972-c000.snappy.parquet\n",
      "part-00016-f0393773-2581-4e08-91a1-971f8ef96972-c000.snappy.parquet\n",
      "part-00017-f0393773-2581-4e08-91a1-971f8ef96972-c000.snappy.parquet\n",
      "part-00018-f0393773-2581-4e08-91a1-971f8ef96972-c000.snappy.parquet\n",
      "_SUCCESS\n"
     ]
    }
   ],
   "source": [
    "!ls -R spark-warehouse"
   ]
  },
  {
   "cell_type": "markdown",
   "id": "cfd0e737-8f8a-433e-a4b0-a348a41383e6",
   "metadata": {},
   "source": [
    "### 저장한 파일 사용하기"
   ]
  },
  {
   "cell_type": "code",
   "execution_count": 23,
   "id": "736645f2-e80c-4d88-8fe4-e81fb870ee15",
   "metadata": {},
   "outputs": [
    {
     "data": {
      "text/plain": [
       "11629522"
      ]
     },
     "execution_count": 23,
     "metadata": {},
     "output_type": "execute_result"
    }
   ],
   "source": [
    "spark.table(\"ko_words_20220214\").count()"
   ]
  },
  {
   "cell_type": "code",
   "execution_count": 24,
   "id": "51e86b6e-b17f-427a-9df5-98498dd67e43",
   "metadata": {},
   "outputs": [
    {
     "name": "stdout",
     "output_type": "stream",
     "text": [
      "+-------------------+---------+\n",
      "|               time|     word|\n",
      "+-------------------+---------+\n",
      "|2022-02-13 15:55:35|       RT|\n",
      "|2022-02-13 15:55:35|@s_bakkk:|\n",
      "|2022-02-13 15:55:35|  #겹친소|\n",
      "+-------------------+---------+\n",
      "only showing top 3 rows\n",
      "\n"
     ]
    }
   ],
   "source": [
    "spark.table(\"ko_words_20220214\").show(3)"
   ]
  },
  {
   "cell_type": "code",
   "execution_count": 28,
   "id": "b3803de0-422d-412e-b9a8-34f0ab8e413b",
   "metadata": {},
   "outputs": [
    {
     "name": "stderr",
     "output_type": "stream",
     "text": [
      "[Stage 27:==============================================>           (4 + 1) / 5]\r"
     ]
    },
    {
     "name": "stdout",
     "output_type": "stream",
     "text": [
      "+-----------------+------+\n",
      "|             word|   cnt|\n",
      "+-----------------+------+\n",
      "|               RT|561390|\n",
      "|             너무| 39247|\n",
      "|             진짜| 36304|\n",
      "|               이| 24138|\n",
      "|                :| 23896|\n",
      "|               다| 23381|\n",
      "|               수| 23294|\n",
      "|                -| 21314|\n",
      "|               아| 19835|\n",
      "|               한| 19593|\n",
      "|               안| 19313|\n",
      "|               나| 19238|\n",
      "|               잘| 18937|\n",
      "|               더| 18695|\n",
      "|               거| 18434|\n",
      "|               그| 17828|\n",
      "|             내가| 16411|\n",
      "|             오늘| 16301|\n",
      "|             선수| 16281|\n",
      "|             우리| 16065|\n",
      "|               내| 14520|\n",
      "|               것| 14329|\n",
      "|               왜| 13742|\n",
      "|             그냥| 13593|\n",
      "|             지금| 13419|\n",
      "|             근데| 13115|\n",
      "|             있는| 12211|\n",
      "|               저| 11905|\n",
      "|               좀| 11898|\n",
      "|             많이| 11796|\n",
      "|               또| 11572|\n",
      "|                || 11546|\n",
      "|             하는| 11544|\n",
      "|             이거| 11383|\n",
      "|               때| 10940|\n",
      "|             보고| 10483|\n",
      "|             하고| 10404|\n",
      "|             아니| 10018|\n",
      "|@treasuremembers:|  9810|\n",
      "|              #RT|  9503|\n",
      "|             생일|  9105|\n",
      "|             이런|  8604|\n",
      "|                .|  8571|\n",
      "|           이렇게|  8376|\n",
      "|             같이|  8093|\n",
      "|               할|  8064|\n",
      "|              2월|  7999|\n",
      "|             정말|  7973|\n",
      "|             이제|  7958|\n",
      "|               ㅋ|  7862|\n",
      "+-----------------+------+\n",
      "only showing top 50 rows\n",
      "\n"
     ]
    },
    {
     "name": "stderr",
     "output_type": "stream",
     "text": [
      "                                                                                \r"
     ]
    }
   ],
   "source": [
    "query = \"\"\"\n",
    "select\n",
    "        word\n",
    "    , count(*) as cnt\n",
    "from ko_words_20220214\n",
    "group by word\n",
    "order by cnt desc\n",
    "\"\"\"\n",
    "\n",
    "spark.sql(query).show(50)"
   ]
  },
  {
   "cell_type": "code",
   "execution_count": 35,
   "id": "d55da4da-ae1d-44de-a0ac-8d30112bd57e",
   "metadata": {},
   "outputs": [
    {
     "name": "stderr",
     "output_type": "stream",
     "text": [
      "22/02/14 23:55:32 WARN RowBasedKeyValueBatch: Calling spill() on RowBasedKeyValueBatch. Will not spill but return 0.\n",
      "22/02/14 23:55:32 WARN RowBasedKeyValueBatch: Calling spill() on RowBasedKeyValueBatch. Will not spill but return 0.\n",
      "22/02/14 23:55:32 WARN RowBasedKeyValueBatch: Calling spill() on RowBasedKeyValueBatch. Will not spill but return 0.\n",
      "22/02/14 23:55:32 WARN RowBasedKeyValueBatch: Calling spill() on RowBasedKeyValueBatch. Will not spill but return 0.\n",
      "[Stage 48:>                                                         (0 + 4) / 4]\r"
     ]
    },
    {
     "name": "stdout",
     "output_type": "stream",
     "text": [
      "+----------+----+-----+\n",
      "|      date|word|  cnt|\n",
      "+----------+----+-----+\n",
      "|2022-02-07|  RT|87291|\n",
      "|2022-02-11|  RT|84064|\n",
      "|2022-02-13|  RT|82991|\n",
      "|2022-02-10|  RT|77298|\n",
      "|2022-02-14|  RT|64177|\n",
      "|2022-02-08|  RT|57218|\n",
      "|2022-02-12|  RT|53338|\n",
      "|2022-02-06|  RT|31867|\n",
      "|2022-02-09|  RT|23146|\n",
      "|2022-02-07|진짜| 6555|\n",
      "|2022-02-11|너무| 5925|\n",
      "|2022-02-13|너무| 5899|\n",
      "|2022-02-10|너무| 5802|\n",
      "|2022-02-11|진짜| 5782|\n",
      "|2022-02-07|너무| 5369|\n",
      "|2022-02-13|진짜| 5304|\n",
      "|2022-02-07|  다| 4640|\n",
      "|2022-02-10|진짜| 4600|\n",
      "|2022-02-07|   :| 4291|\n",
      "|2022-02-14|   :| 4139|\n",
      "|2022-02-14|너무| 3889|\n",
      "|2022-02-14|진짜| 3889|\n",
      "|2022-02-12|너무| 3871|\n",
      "|2022-02-07|선수| 3797|\n",
      "|2022-02-10|   -| 3777|\n",
      "|2022-02-14|오늘| 3759|\n",
      "|2022-02-07|  잘| 3750|\n",
      "|2022-02-07|  이| 3741|\n",
      "|2022-02-08|너무| 3722|\n",
      "|2022-02-11|  이| 3679|\n",
      "|2022-02-13|  이| 3675|\n",
      "|2022-02-07|  수| 3644|\n",
      "|2022-02-10|  이| 3505|\n",
      "|2022-02-13|  다| 3476|\n",
      "|2022-02-13|  한| 3423|\n",
      "|2022-02-08|진짜| 3395|\n",
      "|2022-02-07|중국| 3373|\n",
      "|2022-02-11|  수| 3357|\n",
      "|2022-02-13|  수| 3338|\n",
      "|2022-02-11|   :| 3300|\n",
      "|2022-02-13|  아| 3220|\n",
      "|2022-02-11|   -| 3219|\n",
      "|2022-02-10|   :| 3139|\n",
      "|2022-02-11|  다| 3137|\n",
      "|2022-02-12|진짜| 3125|\n",
      "|2022-02-07|  안| 3111|\n",
      "|2022-02-10|  수| 3045|\n",
      "|2022-02-13|   -| 2992|\n",
      "|2022-02-10|  더| 2974|\n",
      "|2022-02-10|  다| 2969|\n",
      "+----------+----+-----+\n",
      "only showing top 50 rows\n",
      "\n"
     ]
    },
    {
     "name": "stderr",
     "output_type": "stream",
     "text": [
      "                                                                                \r"
     ]
    }
   ],
   "source": [
    "query = \"\"\"\n",
    "select\n",
    "      substr(time, 1, 10) as date  \n",
    "    , word\n",
    "    , count(*) as cnt\n",
    "from ko_words_20220214\n",
    "group by \n",
    "        substr(time, 1, 10)\n",
    "    , word\n",
    "order by cnt desc\n",
    "\"\"\"\n",
    "\n",
    "spark.sql(query).show(50)"
   ]
  },
  {
   "cell_type": "code",
   "execution_count": 39,
   "id": "006423a3-8487-4a0e-84fc-13858ac4b0b6",
   "metadata": {},
   "outputs": [],
   "source": [
    "# 1 일 단위로 한국 Tweets 데이터만 수집해서 추이 확인하기\n",
    "# 단어수는 매일 체크함"
   ]
  },
  {
   "cell_type": "code",
   "execution_count": 36,
   "id": "f1a5583a-e9f3-4e48-8a71-91de4ecccace",
   "metadata": {},
   "outputs": [
    {
     "name": "stderr",
     "output_type": "stream",
     "text": [
      "22/02/14 23:55:55 WARN RowBasedKeyValueBatch: Calling spill() on RowBasedKeyValueBatch. Will not spill but return 0.\n",
      "                                                                                \r"
     ]
    }
   ],
   "source": [
    "df = spark.sql(query).toPandas()"
   ]
  },
  {
   "cell_type": "code",
   "execution_count": 38,
   "id": "a1a3e0f0-4d30-4caa-a3b8-1bc792915d9d",
   "metadata": {},
   "outputs": [],
   "source": [
    "df.to_csv(\"ko_words_date.csv\", encoding=\"utf8\")"
   ]
  },
  {
   "cell_type": "markdown",
   "id": "e98920ec-b847-4450-b2d0-67e715e5d202",
   "metadata": {},
   "source": [
    "### 날짜 예제\n",
    "- 참고1: https://ourcstory.tistory.com/109\n",
    "- 참고2: https://docs.python.org/ko/3.9/library/datetime.html#strftime-and-strptime-format-codes"
   ]
  },
  {
   "cell_type": "code",
   "execution_count": 80,
   "id": "3ab7c964-4a37-45c9-8e36-291ecaaa9dad",
   "metadata": {},
   "outputs": [
    {
     "name": "stdout",
     "output_type": "stream",
     "text": [
      "2010-09-10 15:51:25.000000+0900 (KST)\n"
     ]
    },
    {
     "data": {
      "text/plain": [
       "datetime.datetime(2022, 2, 6, 12, 13, 41)"
      ]
     },
     "execution_count": 80,
     "metadata": {},
     "output_type": "execute_result"
    }
   ],
   "source": [
    "from datetime import datetime\n",
    "import tzlocal\n",
    "\n",
    "unix_timestamp = float(\"1284101485\")\n",
    "local_timezone = tzlocal.get_localzone() # get pytz timezone\n",
    "local_time = datetime.fromtimestamp(unix_timestamp, local_timezone)\n",
    "print(local_time.strftime(\"%Y-%m-%d %H:%M:%S.%f%z (%Z)\"))\n",
    "\n",
    "datetime.strptime(\"2022-02-06T12:13:41\", '%Y-%m-%dT%H:%M:%S')"
   ]
  },
  {
   "cell_type": "code",
   "execution_count": 91,
   "id": "bcee94b5-4305-4b5e-a3c5-2fd3c1670b24",
   "metadata": {},
   "outputs": [
    {
     "name": "stdout",
     "output_type": "stream",
     "text": [
      "09/26/2008\n"
     ]
    }
   ],
   "source": [
    "# 참고자료: https://stackoverflow.com/questions/214777/how-do-you-convert-yyyy-mm-ddthhmmss-000z-time-format-to-mm-dd-yyyy-time-forma\n",
    "from datetime import datetime\n",
    "date_format = \"%Y-%m-%dT%H:%M:%S.%fZ\" \n",
    "datetime.strptime('2008-09-26T01:51:42.000Z', date_format)\n",
    "# datetime(2008, 9, 26, 1, 51, 42)\n",
    "\n",
    "import dateutil.parser\n",
    "\n",
    "d = dateutil.parser.parse('2008-09-26T01:51:42.000Z')\n",
    "print(d.strftime('%m/%d/%Y'))  #==> '09/26/2008'"
   ]
  },
  {
   "cell_type": "code",
   "execution_count": null,
   "id": "58e21104-e692-4949-9809-0b6033c376e1",
   "metadata": {},
   "outputs": [],
   "source": []
  }
 ],
 "metadata": {
  "kernelspec": {
   "display_name": "Python 3 (ipykernel)",
   "language": "python",
   "name": "python3"
  },
  "language_info": {
   "codemirror_mode": {
    "name": "ipython",
    "version": 3
   },
   "file_extension": ".py",
   "mimetype": "text/x-python",
   "name": "python",
   "nbconvert_exporter": "python",
   "pygments_lexer": "ipython3",
   "version": "3.8.10"
  }
 },
 "nbformat": 4,
 "nbformat_minor": 5
}
