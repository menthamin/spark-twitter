{
 "cells": [
  {
   "cell_type": "markdown",
   "id": "c1496ff5-4a2c-4d92-a7cb-0f1f65f907ba",
   "metadata": {},
   "source": [
    "# Spark로 데이터 파이프라인 만들기\n",
    "+ 중요사항: Spark는 데이터 프레임을 토대로 RDD(Resilient Distributed Dataset)라 불리는 Low level 데이터 구주로 되어있다.\n",
    "+ RDD는 지연실행 되고, MapReduce와 마찬가지로 임의의 함수를 Map과 Reduce로 분산 처리할 수 있다.\n",
    "+ 출처: 빅데이터를 지탱하는 기술 (나시다 케이스케)\n",
    "+ 상세페이지: 232~236page"
   ]
  },
  {
   "cell_type": "code",
   "execution_count": 1,
   "id": "59a2080e-8a6e-40ad-9f4a-1767dca917c6",
   "metadata": {},
   "outputs": [],
   "source": [
    "import os\n",
    "import time \n",
    "from pyspark.sql import Row"
   ]
  },
  {
   "cell_type": "markdown",
   "id": "1b0c1a05-f929-4183-b26a-3928514d9f54",
   "metadata": {},
   "source": [
    "## 1. 데이터프레임 생성 (뷰: tweets)"
   ]
  },
  {
   "cell_type": "code",
   "execution_count": 2,
   "id": "266e307a-6fda-4a29-a3ed-b9a39cd0b775",
   "metadata": {},
   "outputs": [
    {
     "name": "stderr",
     "output_type": "stream",
     "text": [
      "                                                                                \r"
     ]
    }
   ],
   "source": [
    "df = (spark.read.format(\"com.mongodb.spark.sql.DefaultSource\").option(\"uri\", \"mongodb://localhost/twitter.tweet_small_sample\").load())\n",
    "df.createOrReplaceTempView(\"tweets\")"
   ]
  },
  {
   "cell_type": "code",
   "execution_count": 3,
   "id": "160b2ae4-fdca-42c7-b122-514871e13b8c",
   "metadata": {},
   "outputs": [
    {
     "name": "stderr",
     "output_type": "stream",
     "text": [
      "[Stage 1:>                                                          (0 + 1) / 1]\r"
     ]
    },
    {
     "name": "stdout",
     "output_type": "stream",
     "text": [
      "+--------------------+--------------------+--------------------+\n",
      "|                 _id|          _timestamp|                data|\n",
      "+--------------------+--------------------+--------------------+\n",
      "|{61ffbb80f6b8e9bd...|2022-02-06T21:13:...|{{null}, 24204959...|\n",
      "+--------------------+--------------------+--------------------+\n",
      "only showing top 1 row\n",
      "\n"
     ]
    },
    {
     "name": "stderr",
     "output_type": "stream",
     "text": [
      "                                                                                \r"
     ]
    }
   ],
   "source": [
    "df.show(1)"
   ]
  },
  {
   "cell_type": "code",
   "execution_count": 4,
   "id": "297dcbec-42db-4219-9b14-ffa19ea0bdba",
   "metadata": {},
   "outputs": [],
   "source": [
    "#By using col() function\n",
    "from pyspark.sql.functions import col\n",
    "# df.select(col(\"data.created_at\"), col(\"data.text\"), col(\"data.lang\") == 'ko').show(truncate=False)\n",
    "# df.filter(\"data.lang = 'ko'\").collect()"
   ]
  },
  {
   "cell_type": "code",
   "execution_count": 5,
   "id": "6a25826c-b215-4168-844c-eb2101835a0d",
   "metadata": {},
   "outputs": [],
   "source": [
    "query = \"\"\"\n",
    "select\n",
    "        data.lang\n",
    "    , count(*) as cnt\n",
    "from tweets\n",
    "group by data.lang\n",
    "order by cnt desc\n",
    "\"\"\""
   ]
  },
  {
   "cell_type": "code",
   "execution_count": 7,
   "id": "6214876d-2e97-4010-9d7e-0ba022ab6ca4",
   "metadata": {},
   "outputs": [
    {
     "name": "stderr",
     "output_type": "stream",
     "text": [
      "[Stage 3:======================================================>  (18 + 1) / 19]\r"
     ]
    },
    {
     "name": "stdout",
     "output_type": "stream",
     "text": [
      "+----+------+\n",
      "|lang|   cnt|\n",
      "+----+------+\n",
      "|  en|284549|\n",
      "|  ja|189826|\n",
      "| und| 88200|\n",
      "|  th| 61411|\n",
      "|  es| 56196|\n",
      "|  ko| 44486|\n",
      "|  ar| 44412|\n",
      "|  tr| 42052|\n",
      "|  pt| 40400|\n",
      "|  in| 38053|\n",
      "|  fr| 19267|\n",
      "|  tl| 14915|\n",
      "|  hi| 14359|\n",
      "|  it|  9141|\n",
      "|  ru|  5946|\n",
      "|  de|  5654|\n",
      "|  zh|  5024|\n",
      "|  fa|  4956|\n",
      "|  pl|  4031|\n",
      "|  ur|  3548|\n",
      "+----+------+\n",
      "only showing top 20 rows\n",
      "\n",
      "time:  33.68653750419617\n"
     ]
    },
    {
     "name": "stderr",
     "output_type": "stream",
     "text": [
      "                                                                                \r"
     ]
    }
   ],
   "source": [
    "strt_time = time.time()\n",
    "spark.sql(query).show()\n",
    "print(\"time: \", time.time() - strt_time)"
   ]
  },
  {
   "cell_type": "markdown",
   "id": "2609199d-5db4-4cfb-be39-92c6a9d72b4a",
   "metadata": {},
   "source": [
    "## 2. 조건에 맞는 레코드 추출 "
   ]
  },
  {
   "cell_type": "code",
   "execution_count": 3,
   "id": "a4968cb5-1ae8-48d8-8fd9-c9e9ae275691",
   "metadata": {},
   "outputs": [],
   "source": [
    "from pyspark.sql import Row\n",
    "from datetime import datetime\n",
    "import dateutil.parser"
   ]
  },
  {
   "cell_type": "code",
   "execution_count": 7,
   "id": "1fc8417b-c7d9-430e-8976-e8823a968b81",
   "metadata": {},
   "outputs": [],
   "source": [
    "query = \"\"\"\n",
    "select data.created_at, data.text\n",
    "from tweets where data.lang = 'ko'\n",
    "\"\"\""
   ]
  },
  {
   "cell_type": "code",
   "execution_count": 8,
   "id": "b38b1b18-d446-46d3-9e57-9aaeb775a71c",
   "metadata": {},
   "outputs": [
    {
     "name": "stdout",
     "output_type": "stream",
     "text": [
      "+--------------------+---------------------------------+\n",
      "|          created_at|                             text|\n",
      "+--------------------+---------------------------------+\n",
      "|2022-02-06T12:13:...|          @dkdtmxkcoth 나도 같...|\n",
      "|2022-02-06T12:13:...|             RT @Rmlove09127: ...|\n",
      "|2022-02-06T12:13:...|             RT @BYangsalang: ...|\n",
      "|2022-02-06T12:13:...|모두들 힘껏 뛰었지만 늦어 버렸...|\n",
      "|2022-02-06T12:13:...|           RT @Chuverall: 이게...|\n",
      "+--------------------+---------------------------------+\n",
      "only showing top 5 rows\n",
      "\n"
     ]
    },
    {
     "name": "stderr",
     "output_type": "stream",
     "text": [
      "                                                                                \r"
     ]
    }
   ],
   "source": [
    "spark.sql(query).show(5)"
   ]
  },
  {
   "cell_type": "code",
   "execution_count": 13,
   "id": "73f954ef-fe9b-426f-88c7-cdf86f2c5dd5",
   "metadata": {},
   "outputs": [],
   "source": [
    "#df.filter(\"data.lang = 'ko'\").rdd.take(1)"
   ]
  },
  {
   "cell_type": "code",
   "execution_count": null,
   "id": "e49722f3-08b3-4345-bbd2-a2dfd2261aa4",
   "metadata": {},
   "outputs": [],
   "source": [
    "#df.filter(\"data.lang = 'ko'\").rdd.flatMap(text_split).take(5)"
   ]
  },
  {
   "cell_type": "markdown",
   "id": "8e0fdf34-21b2-4e71-97e3-f8acfbd2edcb",
   "metadata": {},
   "source": [
    "## 3. 단어로 분해"
   ]
  },
  {
   "cell_type": "code",
   "execution_count": 2,
   "id": "7b9c39af-7b64-4e06-9d22-d2ebaa929863",
   "metadata": {},
   "outputs": [],
   "source": [
    "from pyspark.sql import Row\n",
    "from datetime import datetime\n",
    "import dateutil.parser\n",
    "\n",
    "def string_to_datetime(str):\n",
    "    d = dateutil.parser.parse(str)\n",
    "    return d.strftime('%Y-%m-%d %H:%M:%S')\n",
    "    # return datetime.strptime(str, '%Y-%m-%dT%H:%M:%S.000Z')\n",
    "\n",
    "def text_split(row):\n",
    "    \"\"\"트윗을 단어로 분해하는 제너레이터 함수\n",
    "        :Args: row \n",
    "        \n",
    "        :returns \n",
    "            - Row() 객체로 반환\n",
    "    \"\"\"\n",
    "    if row.data:\n",
    "        for word in row.data.text.split():\n",
    "            yield Row(time=string_to_datetime(row.data.created_at), word=word)"
   ]
  },
  {
   "cell_type": "code",
   "execution_count": 10,
   "id": "526874da-d647-4b52-b854-5319c2639620",
   "metadata": {},
   "outputs": [
    {
     "name": "stderr",
     "output_type": "stream",
     "text": [
      "                                                                                \r"
     ]
    }
   ],
   "source": [
    "ko_words = df.filter(\"data.lang = 'ko'\").rdd.flatMap(text_split).toDF()"
   ]
  },
  {
   "cell_type": "markdown",
   "id": "4402109a-f2f0-4a81-aa70-789b68e94baf",
   "metadata": {},
   "source": [
    "## 4. 데이터 브레임 생성(뷰: ko_words)"
   ]
  },
  {
   "cell_type": "code",
   "execution_count": 11,
   "id": "3a8474ac-e318-409d-bdaf-ac6b32291a06",
   "metadata": {},
   "outputs": [],
   "source": [
    "ko_words.createOrReplaceTempView(\"ko_words\")"
   ]
  },
  {
   "cell_type": "markdown",
   "id": "dcdee97a-28d2-4829-9468-49cdf68e4632",
   "metadata": {},
   "source": [
    "## 5. 단어별 카운트 시작\n",
    "+ RDD에 안먹힘"
   ]
  },
  {
   "cell_type": "code",
   "execution_count": 12,
   "id": "ac5c03da-476f-461f-a91b-f3058078ae1a",
   "metadata": {},
   "outputs": [
    {
     "data": {
      "text/plain": [
       "DataFrame[word: string, cnt: bigint]"
      ]
     },
     "execution_count": 12,
     "metadata": {},
     "output_type": "execute_result"
    }
   ],
   "source": [
    "query = \"\"\"\n",
    "select\n",
    "        word\n",
    "    , count(*) as cnt\n",
    "from ko_words\n",
    "group by word\n",
    "order by cnt desc\n",
    "\"\"\"\n",
    "\n",
    "spark.sql(query)"
   ]
  },
  {
   "cell_type": "markdown",
   "id": "b97b452c-24cc-429f-88f1-d50a136d8cd0",
   "metadata": {},
   "source": [
    "## 6. 열 지향 스토리지로 저장"
   ]
  },
  {
   "cell_type": "code",
   "execution_count": 13,
   "id": "c6011866-3596-4252-95b9-13df32bddb5c",
   "metadata": {},
   "outputs": [
    {
     "name": "stderr",
     "output_type": "stream",
     "text": [
      "22/02/16 22:16:44 WARN HiveConf: HiveConf of name hive.stats.jdbc.timeout does not exist\n",
      "22/02/16 22:16:44 WARN HiveConf: HiveConf of name hive.stats.retries.wait does not exist\n",
      "22/02/16 22:16:47 WARN ObjectStore: Version information not found in metastore. hive.metastore.schema.verification is not enabled so recording the schema version 2.3.0\n",
      "22/02/16 22:16:47 WARN ObjectStore: setMetaStoreSchemaVersion called but recording version is disabled: version = 2.3.0, comment = Set by MetaStore mentha@127.0.1.1\n",
      "22/02/16 22:18:36 WARN SessionState: METASTORE_FILTER_HOOK will be ignored, since hive.security.authorization.manager is set to instance of HiveAuthorizerFactory.\n",
      "22/02/16 22:18:36 WARN HiveConf: HiveConf of name hive.internal.ss.authz.settings.applied.marker does not exist\n",
      "22/02/16 22:18:36 WARN HiveConf: HiveConf of name hive.stats.jdbc.timeout does not exist\n",
      "22/02/16 22:18:36 WARN HiveConf: HiveConf of name hive.stats.retries.wait does not exist\n"
     ]
    }
   ],
   "source": [
    "ko_words.write.saveAsTable(\"ko_words\")"
   ]
  },
  {
   "cell_type": "code",
   "execution_count": 7,
   "id": "977307e5-35d2-40e5-8561-aa3595e48f88",
   "metadata": {},
   "outputs": [
    {
     "name": "stdout",
     "output_type": "stream",
     "text": [
      "ko_words_sample  ko_words_20220214  ko_words\n"
     ]
    }
   ],
   "source": [
    "!ls -r spark-warehouse"
   ]
  },
  {
   "cell_type": "markdown",
   "id": "b9a125d6-7918-471f-942d-3874b6470514",
   "metadata": {},
   "source": [
    "## 7. 데이터 불러와서 확인하기"
   ]
  },
  {
   "cell_type": "code",
   "execution_count": 2,
   "id": "f53c9d77-31fd-4cd7-8207-7c6f8916c893",
   "metadata": {},
   "outputs": [
    {
     "name": "stderr",
     "output_type": "stream",
     "text": [
      "22/02/16 22:46:24 WARN HiveConf: HiveConf of name hive.stats.jdbc.timeout does not exist\n",
      "22/02/16 22:46:24 WARN HiveConf: HiveConf of name hive.stats.retries.wait does not exist\n",
      "22/02/16 22:46:29 WARN ObjectStore: Version information not found in metastore. hive.metastore.schema.verification is not enabled so recording the schema version 2.3.0\n",
      "22/02/16 22:46:29 WARN ObjectStore: setMetaStoreSchemaVersion called but recording version is disabled: version = 2.3.0, comment = Set by MetaStore mentha@127.0.1.1\n",
      "22/02/16 22:46:29 WARN ObjectStore: Failed to get database default, returning NoSuchObjectException\n"
     ]
    },
    {
     "ename": "AnalysisException",
     "evalue": "Table or view not found: ko_words;\n'UnresolvedRelation [ko_words], [], false\n",
     "output_type": "error",
     "traceback": [
      "\u001b[0;31m---------------------------------------------------------------------------\u001b[0m",
      "\u001b[0;31mAnalysisException\u001b[0m                         Traceback (most recent call last)",
      "Input \u001b[0;32mIn [2]\u001b[0m, in \u001b[0;36m<module>\u001b[0;34m\u001b[0m\n\u001b[0;32m----> 1\u001b[0m \u001b[43mspark\u001b[49m\u001b[38;5;241;43m.\u001b[39;49m\u001b[43mtable\u001b[49m\u001b[43m(\u001b[49m\u001b[38;5;124;43m\"\u001b[39;49m\u001b[38;5;124;43mko_words\u001b[39;49m\u001b[38;5;124;43m\"\u001b[39;49m\u001b[43m)\u001b[49m\u001b[38;5;241m.\u001b[39mcount()\n",
      "File \u001b[0;32m/opt/spark/python/pyspark/sql/session.py:741\u001b[0m, in \u001b[0;36mSparkSession.table\u001b[0;34m(self, tableName)\u001b[0m\n\u001b[1;32m    725\u001b[0m \u001b[38;5;28;01mdef\u001b[39;00m \u001b[38;5;21mtable\u001b[39m(\u001b[38;5;28mself\u001b[39m, tableName):\n\u001b[1;32m    726\u001b[0m     \u001b[38;5;124;03m\"\"\"Returns the specified table as a :class:`DataFrame`.\u001b[39;00m\n\u001b[1;32m    727\u001b[0m \n\u001b[1;32m    728\u001b[0m \u001b[38;5;124;03m    .. versionadded:: 2.0.0\u001b[39;00m\n\u001b[0;32m   (...)\u001b[0m\n\u001b[1;32m    739\u001b[0m \u001b[38;5;124;03m    True\u001b[39;00m\n\u001b[1;32m    740\u001b[0m \u001b[38;5;124;03m    \"\"\"\u001b[39;00m\n\u001b[0;32m--> 741\u001b[0m     \u001b[38;5;28;01mreturn\u001b[39;00m DataFrame(\u001b[38;5;28;43mself\u001b[39;49m\u001b[38;5;241;43m.\u001b[39;49m\u001b[43m_jsparkSession\u001b[49m\u001b[38;5;241;43m.\u001b[39;49m\u001b[43mtable\u001b[49m\u001b[43m(\u001b[49m\u001b[43mtableName\u001b[49m\u001b[43m)\u001b[49m, \u001b[38;5;28mself\u001b[39m\u001b[38;5;241m.\u001b[39m_wrapped)\n",
      "File \u001b[0;32m/opt/spark/python/lib/py4j-0.10.9.3-src.zip/py4j/java_gateway.py:1321\u001b[0m, in \u001b[0;36mJavaMember.__call__\u001b[0;34m(self, *args)\u001b[0m\n\u001b[1;32m   1315\u001b[0m command \u001b[38;5;241m=\u001b[39m proto\u001b[38;5;241m.\u001b[39mCALL_COMMAND_NAME \u001b[38;5;241m+\u001b[39m\\\n\u001b[1;32m   1316\u001b[0m     \u001b[38;5;28mself\u001b[39m\u001b[38;5;241m.\u001b[39mcommand_header \u001b[38;5;241m+\u001b[39m\\\n\u001b[1;32m   1317\u001b[0m     args_command \u001b[38;5;241m+\u001b[39m\\\n\u001b[1;32m   1318\u001b[0m     proto\u001b[38;5;241m.\u001b[39mEND_COMMAND_PART\n\u001b[1;32m   1320\u001b[0m answer \u001b[38;5;241m=\u001b[39m \u001b[38;5;28mself\u001b[39m\u001b[38;5;241m.\u001b[39mgateway_client\u001b[38;5;241m.\u001b[39msend_command(command)\n\u001b[0;32m-> 1321\u001b[0m return_value \u001b[38;5;241m=\u001b[39m \u001b[43mget_return_value\u001b[49m\u001b[43m(\u001b[49m\n\u001b[1;32m   1322\u001b[0m \u001b[43m    \u001b[49m\u001b[43manswer\u001b[49m\u001b[43m,\u001b[49m\u001b[43m \u001b[49m\u001b[38;5;28;43mself\u001b[39;49m\u001b[38;5;241;43m.\u001b[39;49m\u001b[43mgateway_client\u001b[49m\u001b[43m,\u001b[49m\u001b[43m \u001b[49m\u001b[38;5;28;43mself\u001b[39;49m\u001b[38;5;241;43m.\u001b[39;49m\u001b[43mtarget_id\u001b[49m\u001b[43m,\u001b[49m\u001b[43m \u001b[49m\u001b[38;5;28;43mself\u001b[39;49m\u001b[38;5;241;43m.\u001b[39;49m\u001b[43mname\u001b[49m\u001b[43m)\u001b[49m\n\u001b[1;32m   1324\u001b[0m \u001b[38;5;28;01mfor\u001b[39;00m temp_arg \u001b[38;5;129;01min\u001b[39;00m temp_args:\n\u001b[1;32m   1325\u001b[0m     temp_arg\u001b[38;5;241m.\u001b[39m_detach()\n",
      "File \u001b[0;32m/opt/spark/python/pyspark/sql/utils.py:117\u001b[0m, in \u001b[0;36mcapture_sql_exception.<locals>.deco\u001b[0;34m(*a, **kw)\u001b[0m\n\u001b[1;32m    113\u001b[0m converted \u001b[38;5;241m=\u001b[39m convert_exception(e\u001b[38;5;241m.\u001b[39mjava_exception)\n\u001b[1;32m    114\u001b[0m \u001b[38;5;28;01mif\u001b[39;00m \u001b[38;5;129;01mnot\u001b[39;00m \u001b[38;5;28misinstance\u001b[39m(converted, UnknownException):\n\u001b[1;32m    115\u001b[0m     \u001b[38;5;66;03m# Hide where the exception came from that shows a non-Pythonic\u001b[39;00m\n\u001b[1;32m    116\u001b[0m     \u001b[38;5;66;03m# JVM exception message.\u001b[39;00m\n\u001b[0;32m--> 117\u001b[0m     \u001b[38;5;28;01mraise\u001b[39;00m converted \u001b[38;5;28;01mfrom\u001b[39;00m \u001b[38;5;28mNone\u001b[39m\n\u001b[1;32m    118\u001b[0m \u001b[38;5;28;01melse\u001b[39;00m:\n\u001b[1;32m    119\u001b[0m     \u001b[38;5;28;01mraise\u001b[39;00m\n",
      "\u001b[0;31mAnalysisException\u001b[0m: Table or view not found: ko_words;\n'UnresolvedRelation [ko_words], [], false\n"
     ]
    }
   ],
   "source": [
    "spark.table(\"ko_words\").count()"
   ]
  },
  {
   "cell_type": "code",
   "execution_count": 18,
   "id": "27eacdc9-7306-433c-9c9b-b5e4496e9a4a",
   "metadata": {},
   "outputs": [
    {
     "data": {
      "text/plain": [
       "11629522"
      ]
     },
     "execution_count": 18,
     "metadata": {},
     "output_type": "execute_result"
    }
   ],
   "source": [
    "spark.table(\"ko_words_20220214\").count()"
   ]
  },
  {
   "cell_type": "code",
   "execution_count": 3,
   "id": "3bdd94dc-9793-46b2-b68d-02077b05edc6",
   "metadata": {},
   "outputs": [],
   "source": [
    "query = \"\"\"\n",
    "select \n",
    "        substr(time, 1, 13) as time\n",
    "    , word\n",
    "    , count(*) as cnt\n",
    "from  ko_words\n",
    "group by substr(time, 1, 13), word\n",
    "order by cnt desc\n",
    "\"\"\"\n",
    "\n",
    "query2 = \"\"\"\n",
    "select\n",
    "        word\n",
    "    , count(*) as cnt\n",
    "from ko_words_20220214\n",
    "group by word\n",
    "order by cnt desc\n",
    "\"\"\"\n",
    "\n",
    "query3 = \"\"\"\n",
    "select \n",
    "        substr(time, 1, 13) as time\n",
    "    , word\n",
    "    , count(*) as cnt\n",
    "from  ko_words_20220214\n",
    "group by substr(time, 1, 13), word\n",
    "order by cnt desc\n",
    "\"\"\""
   ]
  },
  {
   "cell_type": "code",
   "execution_count": 6,
   "id": "c29f11c2-bc0c-4de2-acbc-517dcf60870d",
   "metadata": {},
   "outputs": [
    {
     "ename": "AnalysisException",
     "evalue": "Table or view not found: ko_words; line 6 pos 6;\n'Sort ['cnt DESC NULLS LAST], true\n+- 'Aggregate ['substr('time, 1, 13), 'word], ['substr('time, 1, 13) AS time#0, 'word, count(1) AS cnt#1L]\n   +- 'UnresolvedRelation [ko_words], [], false\n",
     "output_type": "error",
     "traceback": [
      "\u001b[0;31m---------------------------------------------------------------------------\u001b[0m",
      "\u001b[0;31mAnalysisException\u001b[0m                         Traceback (most recent call last)",
      "Input \u001b[0;32mIn [6]\u001b[0m, in \u001b[0;36m<module>\u001b[0;34m\u001b[0m\n\u001b[1;32m      1\u001b[0m strt_time \u001b[38;5;241m=\u001b[39m time\u001b[38;5;241m.\u001b[39mtime()\n\u001b[0;32m----> 2\u001b[0m \u001b[43mspark\u001b[49m\u001b[38;5;241;43m.\u001b[39;49m\u001b[43msql\u001b[49m\u001b[43m(\u001b[49m\u001b[43mquery\u001b[49m\u001b[43m)\u001b[49m\u001b[38;5;241m.\u001b[39mshow(\u001b[38;5;241m3\u001b[39m)\n\u001b[1;32m      3\u001b[0m \u001b[38;5;28mprint\u001b[39m(\u001b[38;5;124m\"\u001b[39m\u001b[38;5;124mtime: \u001b[39m\u001b[38;5;124m\"\u001b[39m, time\u001b[38;5;241m.\u001b[39mtime() \u001b[38;5;241m-\u001b[39m strt_time)\n",
      "File \u001b[0;32m/opt/spark/python/pyspark/sql/session.py:723\u001b[0m, in \u001b[0;36mSparkSession.sql\u001b[0;34m(self, sqlQuery)\u001b[0m\n\u001b[1;32m    707\u001b[0m \u001b[38;5;28;01mdef\u001b[39;00m \u001b[38;5;21msql\u001b[39m(\u001b[38;5;28mself\u001b[39m, sqlQuery):\n\u001b[1;32m    708\u001b[0m     \u001b[38;5;124;03m\"\"\"Returns a :class:`DataFrame` representing the result of the given query.\u001b[39;00m\n\u001b[1;32m    709\u001b[0m \n\u001b[1;32m    710\u001b[0m \u001b[38;5;124;03m    .. versionadded:: 2.0.0\u001b[39;00m\n\u001b[0;32m   (...)\u001b[0m\n\u001b[1;32m    721\u001b[0m \u001b[38;5;124;03m    [Row(f1=1, f2='row1'), Row(f1=2, f2='row2'), Row(f1=3, f2='row3')]\u001b[39;00m\n\u001b[1;32m    722\u001b[0m \u001b[38;5;124;03m    \"\"\"\u001b[39;00m\n\u001b[0;32m--> 723\u001b[0m     \u001b[38;5;28;01mreturn\u001b[39;00m DataFrame(\u001b[38;5;28;43mself\u001b[39;49m\u001b[38;5;241;43m.\u001b[39;49m\u001b[43m_jsparkSession\u001b[49m\u001b[38;5;241;43m.\u001b[39;49m\u001b[43msql\u001b[49m\u001b[43m(\u001b[49m\u001b[43msqlQuery\u001b[49m\u001b[43m)\u001b[49m, \u001b[38;5;28mself\u001b[39m\u001b[38;5;241m.\u001b[39m_wrapped)\n",
      "File \u001b[0;32m/opt/spark/python/lib/py4j-0.10.9.3-src.zip/py4j/java_gateway.py:1321\u001b[0m, in \u001b[0;36mJavaMember.__call__\u001b[0;34m(self, *args)\u001b[0m\n\u001b[1;32m   1315\u001b[0m command \u001b[38;5;241m=\u001b[39m proto\u001b[38;5;241m.\u001b[39mCALL_COMMAND_NAME \u001b[38;5;241m+\u001b[39m\\\n\u001b[1;32m   1316\u001b[0m     \u001b[38;5;28mself\u001b[39m\u001b[38;5;241m.\u001b[39mcommand_header \u001b[38;5;241m+\u001b[39m\\\n\u001b[1;32m   1317\u001b[0m     args_command \u001b[38;5;241m+\u001b[39m\\\n\u001b[1;32m   1318\u001b[0m     proto\u001b[38;5;241m.\u001b[39mEND_COMMAND_PART\n\u001b[1;32m   1320\u001b[0m answer \u001b[38;5;241m=\u001b[39m \u001b[38;5;28mself\u001b[39m\u001b[38;5;241m.\u001b[39mgateway_client\u001b[38;5;241m.\u001b[39msend_command(command)\n\u001b[0;32m-> 1321\u001b[0m return_value \u001b[38;5;241m=\u001b[39m \u001b[43mget_return_value\u001b[49m\u001b[43m(\u001b[49m\n\u001b[1;32m   1322\u001b[0m \u001b[43m    \u001b[49m\u001b[43manswer\u001b[49m\u001b[43m,\u001b[49m\u001b[43m \u001b[49m\u001b[38;5;28;43mself\u001b[39;49m\u001b[38;5;241;43m.\u001b[39;49m\u001b[43mgateway_client\u001b[49m\u001b[43m,\u001b[49m\u001b[43m \u001b[49m\u001b[38;5;28;43mself\u001b[39;49m\u001b[38;5;241;43m.\u001b[39;49m\u001b[43mtarget_id\u001b[49m\u001b[43m,\u001b[49m\u001b[43m \u001b[49m\u001b[38;5;28;43mself\u001b[39;49m\u001b[38;5;241;43m.\u001b[39;49m\u001b[43mname\u001b[49m\u001b[43m)\u001b[49m\n\u001b[1;32m   1324\u001b[0m \u001b[38;5;28;01mfor\u001b[39;00m temp_arg \u001b[38;5;129;01min\u001b[39;00m temp_args:\n\u001b[1;32m   1325\u001b[0m     temp_arg\u001b[38;5;241m.\u001b[39m_detach()\n",
      "File \u001b[0;32m/opt/spark/python/pyspark/sql/utils.py:117\u001b[0m, in \u001b[0;36mcapture_sql_exception.<locals>.deco\u001b[0;34m(*a, **kw)\u001b[0m\n\u001b[1;32m    113\u001b[0m converted \u001b[38;5;241m=\u001b[39m convert_exception(e\u001b[38;5;241m.\u001b[39mjava_exception)\n\u001b[1;32m    114\u001b[0m \u001b[38;5;28;01mif\u001b[39;00m \u001b[38;5;129;01mnot\u001b[39;00m \u001b[38;5;28misinstance\u001b[39m(converted, UnknownException):\n\u001b[1;32m    115\u001b[0m     \u001b[38;5;66;03m# Hide where the exception came from that shows a non-Pythonic\u001b[39;00m\n\u001b[1;32m    116\u001b[0m     \u001b[38;5;66;03m# JVM exception message.\u001b[39;00m\n\u001b[0;32m--> 117\u001b[0m     \u001b[38;5;28;01mraise\u001b[39;00m converted \u001b[38;5;28;01mfrom\u001b[39;00m \u001b[38;5;28mNone\u001b[39m\n\u001b[1;32m    118\u001b[0m \u001b[38;5;28;01melse\u001b[39;00m:\n\u001b[1;32m    119\u001b[0m     \u001b[38;5;28;01mraise\u001b[39;00m\n",
      "\u001b[0;31mAnalysisException\u001b[0m: Table or view not found: ko_words; line 6 pos 6;\n'Sort ['cnt DESC NULLS LAST], true\n+- 'Aggregate ['substr('time, 1, 13), 'word], ['substr('time, 1, 13) AS time#0, 'word, count(1) AS cnt#1L]\n   +- 'UnresolvedRelation [ko_words], [], false\n"
     ]
    }
   ],
   "source": [
    "strt_time = time.time()\n",
    "spark.sql(query).show(3)\n",
    "print(\"time: \", time.time() - strt_time)"
   ]
  },
  {
   "cell_type": "code",
   "execution_count": 27,
   "id": "45a6d1b7-ae4a-4e70-aa14-eb3d48b446ab",
   "metadata": {},
   "outputs": [
    {
     "name": "stderr",
     "output_type": "stream",
     "text": [
      "[Stage 41:>                                                         (0 + 4) / 4]\r"
     ]
    },
    {
     "name": "stdout",
     "output_type": "stream",
     "text": [
      "+----+------+\n",
      "|word|   cnt|\n",
      "+----+------+\n",
      "|  RT|561390|\n",
      "|너무| 39247|\n",
      "|진짜| 36304|\n",
      "+----+------+\n",
      "only showing top 3 rows\n",
      "\n",
      "time:  7.478374242782593\n"
     ]
    },
    {
     "name": "stderr",
     "output_type": "stream",
     "text": [
      "                                                                                \r"
     ]
    }
   ],
   "source": [
    "strt_time = time.time()\n",
    "spark.sql(query2).show(3)\n",
    "print(\"time: \", time.time() - strt_time)"
   ]
  },
  {
   "cell_type": "code",
   "execution_count": 29,
   "id": "4012bd83-e812-408e-a946-37193b6bb2a7",
   "metadata": {},
   "outputs": [
    {
     "name": "stderr",
     "output_type": "stream",
     "text": [
      "22/02/16 22:35:35 WARN RowBasedKeyValueBatch: Calling spill() on RowBasedKeyValueBatch. Will not spill but return 0.\n",
      "22/02/16 22:35:35 WARN RowBasedKeyValueBatch: Calling spill() on RowBasedKeyValueBatch. Will not spill but return 0.\n",
      "22/02/16 22:35:35 WARN RowBasedKeyValueBatch: Calling spill() on RowBasedKeyValueBatch. Will not spill but return 0.\n",
      "22/02/16 22:35:35 WARN RowBasedKeyValueBatch: Calling spill() on RowBasedKeyValueBatch. Will not spill but return 0.\n",
      "22/02/16 22:35:36 WARN RowBasedKeyValueBatch: Calling spill() on RowBasedKeyValueBatch. Will not spill but return 0.\n",
      "22/02/16 22:35:36 WARN RowBasedKeyValueBatch: Calling spill() on RowBasedKeyValueBatch. Will not spill but return 0.\n",
      "22/02/16 22:35:36 WARN RowBasedKeyValueBatch: Calling spill() on RowBasedKeyValueBatch. Will not spill but return 0.\n",
      "22/02/16 22:35:36 WARN RowBasedKeyValueBatch: Calling spill() on RowBasedKeyValueBatch. Will not spill but return 0.\n",
      "[Stage 47:>                                                         (0 + 4) / 4]\r"
     ]
    },
    {
     "name": "stdout",
     "output_type": "stream",
     "text": [
      "+-------------+----+-----+\n",
      "|         time|word|  cnt|\n",
      "+-------------+----+-----+\n",
      "|2022-02-07 13|  RT|13683|\n",
      "|2022-02-07 14|  RT|11665|\n",
      "|2022-02-11 13|  RT| 8522|\n",
      "+-------------+----+-----+\n",
      "only showing top 3 rows\n",
      "\n",
      "time:  23.757562398910522\n"
     ]
    },
    {
     "name": "stderr",
     "output_type": "stream",
     "text": [
      "                                                                                \r"
     ]
    }
   ],
   "source": [
    "strt_time = time.time()\n",
    "spark.sql(query3).show(3)\n",
    "print(\"time: \", time.time() - strt_time)"
   ]
  },
  {
   "cell_type": "code",
   "execution_count": null,
   "id": "9960924b-e52c-4e02-8ae5-f05a96c13516",
   "metadata": {},
   "outputs": [],
   "source": []
  }
 ],
 "metadata": {
  "kernelspec": {
   "display_name": "Python 3 (ipykernel)",
   "language": "python",
   "name": "python3"
  },
  "language_info": {
   "codemirror_mode": {
    "name": "ipython",
    "version": 3
   },
   "file_extension": ".py",
   "mimetype": "text/x-python",
   "name": "python",
   "nbconvert_exporter": "python",
   "pygments_lexer": "ipython3",
   "version": "3.8.10"
  }
 },
 "nbformat": 4,
 "nbformat_minor": 5
}
